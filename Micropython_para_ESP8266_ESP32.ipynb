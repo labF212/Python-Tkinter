{
  "nbformat": 4,
  "nbformat_minor": 0,
  "metadata": {
    "colab": {
      "name": "Micropython para ESP8266/ESP32.ipynb",
      "provenance": [],
      "collapsed_sections": [],
      "mount_file_id": "1J-Lwjm2s4XCv8gwpx24JojQnSVsLur8t",
      "authorship_tag": "ABX9TyMrq+EUhHXP9MQWgRc9d0W6",
      "include_colab_link": true
    },
    "kernelspec": {
      "name": "python3",
      "display_name": "Python 3"
    }
  },
  "cells": [
    {
      "cell_type": "markdown",
      "metadata": {
        "id": "view-in-github",
        "colab_type": "text"
      },
      "source": [
        "<a href=\"https://colab.research.google.com/github/labF212/python/blob/main/Micropython_para_ESP8266_ESP32.ipynb\" target=\"_parent\"><img src=\"https://colab.research.google.com/assets/colab-badge.svg\" alt=\"Open In Colab\"/></a>"
      ]
    },
    {
      "cell_type": "markdown",
      "metadata": {
        "id": "5bSJevjkWz3T"
      },
      "source": [
        "#Olá seja bem vindo a este manual de mycropython escrito em Jupyter.\n",
        "\n",
        "Curso Python Grátis: \n",
        "\n",
        "Python 101 – Introduction to Programming --> https://academy.zenva.com\n",
        "\n",
        "https://www.youtube.com/watch?v=rfscVS0vtbw - básico python\n",
        "\n",
        "Microphython\n",
        "https://www.youtube.com/watch?v=Rd9V6qEIfv4\n",
        "\n",
        "\n",
        "\n",
        "[Oled and utrasonic libraries](https://www.youtube.com/redirect?v=lCbE8M-5VS4&redir_token=QUFFLUhqbkFoOFZ5UmJDeGp6eUVuUVgydDEzX3JjYzg0d3xBQ3Jtc0trOU5Uc3hwXzI3Vk1TOEFDM1U4UHVyZG91YmxUZUNwdXRaTGJXS0xQVGE2ektpdDhqV0dJcktRWkhXbFM4QWR6ZGtHbzZrbzlTbWkycmVnWVdMckR3QWwwWVNnbTAyU05fRnpFTFpNSU44eXZaUW9lOA%3D%3D&event=video_description&q=http%3A%2F%2Fwww.alselectro.com%2Ffiles%2Fmicropython_oled_dht_ultrasonic.zip)\n",
        "\n"
      ]
    },
    {
      "cell_type": "markdown",
      "metadata": {
        "id": "t8RX950s1bi6"
      },
      "source": [
        "## Como instalar Micropython no pc e no ESP32/ESP8266"
      ]
    },
    {
      "cell_type": "markdown",
      "metadata": {
        "id": "eFxjx273korh"
      },
      "source": [
        "Como instalar Micropython\n",
        "\n",
        "Em Linux:\n",
        "\n",
        "sudo apt-get install python3-pip\n",
        "\n",
        "pip3 install esptool\n",
        "\n",
        "pip3 install pyserial\n",
        "\n",
        "sudo adduser myusername dialout (requires reboot)\n",
        "\n",
        "Usar o programa Thonny para colocar o firmware no ESP32 e efectuar a sua edição.\n",
        "Ver como fazer em:\n",
        "https://github.com/labF212/ESP32/wiki/MicroPython-on-ESP32\n"
      ]
    },
    {
      "cell_type": "code",
      "metadata": {
        "id": "GQLxUtry6WUm"
      },
      "source": [
        ""
      ],
      "execution_count": null,
      "outputs": []
    },
    {
      "cell_type": "markdown",
      "metadata": {
        "id": "EI-63qBLxogr"
      },
      "source": [
        "\n",
        "##Micropython para ESP8266/ESP32"
      ]
    },
    {
      "cell_type": "markdown",
      "metadata": {
        "id": "_d03Rpr716s7"
      },
      "source": [
        "##Declaração de variáveis"
      ]
    },
    {
      "cell_type": "code",
      "metadata": {
        "id": "17ivLAvQmwIO",
        "colab": {
          "base_uri": "https://localhost:8080/"
        },
        "outputId": "61297686-22f8-493e-f5fb-4024d4bc66ae"
      },
      "source": [
        "a = 2\n",
        "b = 1.0\n",
        "c= a+b\n",
        "d= \" + \"\n",
        "print (\"a é um inteiro \", a)\n",
        "print (\"b é um decimal\", b )\n",
        "print (\"c é um decimal\", c )\n",
        "print (str(a) + d + str (b) + \" = \" + str(c) + \" é uma frase\" )"
      ],
      "execution_count": 8,
      "outputs": [
        {
          "output_type": "stream",
          "name": "stdout",
          "text": [
            "a é um inteiro  2\n",
            "b é um decimal 1.0\n",
            "c é um decimal 3.0\n",
            "2 + 1.0 = 3.0 é uma frase\n"
          ]
        }
      ]
    },
    {
      "cell_type": "markdown",
      "metadata": {
        "id": "MKPov2Wmx13U"
      },
      "source": [
        "Acender Led"
      ]
    },
    {
      "cell_type": "code",
      "metadata": {
        "id": "rtKJrIyTxxco"
      },
      "source": [
        "import time\n",
        "from machine import Pin\n",
        "led=Pin(2,Pin.OUT) #default blue led\n",
        " \n",
        "while True:\n",
        "led.value(1)\n",
        "time.sleep(0.5)\n",
        "led.value(0)\n",
        "time.sleep(0.5)"
      ],
      "execution_count": null,
      "outputs": []
    },
    {
      "cell_type": "markdown",
      "metadata": {
        "id": "Zfw9UMiTzEfq"
      },
      "source": [
        "PWM"
      ]
    },
    {
      "cell_type": "code",
      "metadata": {
        "id": "Phc3fNTRzCoY"
      },
      "source": [
        "from machine import PWM\n",
        "led_pwm = PWM(Pin(2))\n",
        "led.pwm(duty) #0 to 512\n",
        "led.pwm(freq) #o to 1000\n",
        "led.pwd.deinit() #restart to default conditions\n",
        "led.pwd=(PWM(Pin(2),freq=5,duty=128)) #define start condition"
      ],
      "execution_count": null,
      "outputs": []
    },
    {
      "cell_type": "markdown",
      "metadata": {
        "id": "Uxmic2Ui4Zhy"
      },
      "source": [
        "ADC - Analog Input (ex: LDR)"
      ]
    },
    {
      "cell_type": "code",
      "metadata": {
        "id": "00PnA0-74nj2"
      },
      "source": [
        "#https://randomnerdtutorials.com/esp32-adc-analog-read-arduino-ide/\n",
        "from machine import ADC\n",
        "sensor = ADC (Pin(32)) #0 to 4095\n",
        "print(sensor.read())"
      ],
      "execution_count": null,
      "outputs": []
    },
    {
      "cell_type": "markdown",
      "metadata": {
        "id": "NoOWXxZgwFvN"
      },
      "source": [
        "Your ESP32 is not able to distinguish 3.3 V from 3.2 V. You’ll get the same value for both voltages: 4095.\n",
        "\n",
        "The same happens for very low voltage values: for 0 V and 0.1 V you’ll get the same value: 0. You need to keep this in mind when using the ESP32 ADC pins."
      ]
    },
    {
      "cell_type": "markdown",
      "metadata": {
        "id": "6mWLAElEQU9h"
      },
      "source": [
        "Capacitive Touch"
      ]
    },
    {
      "cell_type": "code",
      "metadata": {
        "id": "83OnMa2rQav3"
      },
      "source": [
        "from machine import TouchPad, Pin\n",
        "\n",
        "t = TouchPad(Pin(14))\n",
        "t.read()              # Returns a smaller number when touched"
      ],
      "execution_count": null,
      "outputs": []
    },
    {
      "cell_type": "markdown",
      "metadata": {
        "id": "k7hr-ZM37CgJ"
      },
      "source": [
        "Hall Sensor"
      ]
    },
    {
      "cell_type": "code",
      "metadata": {
        "id": "yn6KKrbc6v2y"
      },
      "source": [
        "import esp32\n",
        "import time\n",
        " \n",
        "while True:\n",
        "    print(esp32.hall_sensor()) #-50 to 125 (example)\n",
        "    time.sleep(0.5)"
      ],
      "execution_count": null,
      "outputs": []
    },
    {
      "cell_type": "markdown",
      "metadata": {
        "id": "PQJsq4Gmwke6"
      },
      "source": [
        "Note: Use an average to get a better result. The values changes by distance and angle."
      ]
    },
    {
      "cell_type": "markdown",
      "metadata": {
        "id": "afjl9LUU9PEf"
      },
      "source": [
        "Temperatura interna"
      ]
    },
    {
      "cell_type": "code",
      "metadata": {
        "id": "1Sv-SJFv9Ubo"
      },
      "source": [
        "import esp32\n",
        "import time\n",
        " \n",
        "while True:\n",
        "    tcelsius=(esp32.raw_temperature()-32)/(1.8)\n",
        "    print(\"F= \",esp32.raw_temperature())\n",
        "    print(\"T= \",tcelsius) \n",
        "    time.sleep(0.5)"
      ],
      "execution_count": null,
      "outputs": []
    },
    {
      "cell_type": "markdown",
      "metadata": {
        "id": "GzrojeuTJmvN"
      },
      "source": [
        "Botões"
      ]
    },
    {
      "cell_type": "code",
      "metadata": {
        "id": "_DFlxK0fJrFv"
      },
      "source": [
        "#https://blog.miguelgrinberg.com/post/micropython-and-the-internet-of-things-part-iii-building-a-micropython-application\n",
        "import machine\n",
        "import time\n",
        "\n",
        "led = machine.Pin(2, machine.Pin.OUT)\n",
        "led2 = machine.Pin(16, machine.Pin.OUT)\n",
        "button = machine.Pin(14, machine.Pin.IN, machine.Pin.PULL_UP)\n",
        "while button.value():\n",
        "    led.on()\n",
        "    led2.off()\n",
        "    time.sleep(0.5)\n",
        "    led.off()\n",
        "    led2.on()\n",
        "    time.sleep(0.5)\n",
        "led.on()\n",
        "led2.on()"
      ],
      "execution_count": null,
      "outputs": []
    },
    {
      "cell_type": "markdown",
      "metadata": {
        "id": "VGN6CUrkO7LV"
      },
      "source": [
        "Sensor Temperatura DHT"
      ]
    },
    {
      "cell_type": "code",
      "metadata": {
        "id": "YiZWylQkOtRW"
      },
      "source": [
        "import dht\n",
        "import machine\n",
        "\n",
        "d = dht.DHT11(machine.Pin(4))\n",
        "d.measure()\n",
        "d.temperature() # eg. 23 (°C)\n",
        "d.humidity()    # eg. 41 (% RH)\n",
        "\n",
        "d = dht.DHT22(machine.Pin(5))\n",
        "d.measure()\n",
        "d.temperature() # eg. 23.6 (°C)\n",
        "d.humidity()    # eg. 41.3 (% RH)\n"
      ],
      "execution_count": null,
      "outputs": []
    },
    {
      "cell_type": "markdown",
      "metadata": {
        "id": "jfefWwm9O0fh"
      },
      "source": [
        "Ultrasonic\n"
      ]
    },
    {
      "cell_type": "code",
      "metadata": {
        "id": "5VuV7nXU5yiG"
      },
      "source": [
        "#https://www.youtube.com/redirect?v=lCbE8M-5VS4&redir_token=QUFFLUhqbkFoOFZ5UmJDeGp6eUVuUVgydDEzX3JjYzg0d3xBQ3Jtc0trOU5Uc3hwXzI3Vk1TOEFDM1U4UHVyZG91YmxUZUNwdXRaTGJXS0xQVGE2ektpdDhqV0dJcktRWkhXbFM4QWR6ZGtHbzZrbzlTbWkycmVnWVdMckR3QWwwWVNnbTAyU05fRnpFTFpNSU44eXZaUW9lOA%3D%3D&event=video_description&q=http%3A%2F%2Fwww.alselectro.com%2Ffiles%2Fmicropython_oled_dht_ultrasonic.zip\n",
        "#code and libraries"
      ],
      "execution_count": null,
      "outputs": []
    },
    {
      "cell_type": "markdown",
      "metadata": {
        "id": "rvpkpuo05t0h"
      },
      "source": [
        ""
      ]
    },
    {
      "cell_type": "markdown",
      "metadata": {
        "id": "TrdUapeysUKs"
      },
      "source": [
        "Timer"
      ]
    },
    {
      "cell_type": "code",
      "metadata": {
        "id": "30vT7B0esXpI"
      },
      "source": [
        "from machine import Pin, Timer\n",
        "led=Pin(2,Pin.OUT)\n",
        "flash=Timer(0)\n",
        "def flash_led(timer):\n",
        "    led.value( not led.value())\n",
        "\n",
        "flash_led(0) #change led status\n",
        "flash.init(period=1000,mode=Timer.PERIODIC,callback=flash_led) #start timer conditions\n",
        "flash.deinit() #shutdown timer"
      ],
      "execution_count": null,
      "outputs": []
    },
    {
      "cell_type": "markdown",
      "metadata": {
        "id": "UzZL-gOXu7mz"
      },
      "source": [
        "Interrupts"
      ]
    },
    {
      "cell_type": "code",
      "metadata": {
        "id": "1FM_YJcJu435"
      },
      "source": [
        "#https://www.youtube.com/watch?v=Mku1Bq78nXw\n",
        "\n",
        "from machine import Pin\n",
        "but1 = Pin(26, Pin.IN)\n",
        "but1.value()\n",
        "\n",
        "def button_press(pin):\n",
        "    print(pin)\n",
        "    \n",
        "but1.irq(trigger=Pin.IRQ_FALLING, handler=button_press)"
      ],
      "execution_count": null,
      "outputs": []
    },
    {
      "cell_type": "code",
      "metadata": {
        "id": "PrZhXfXR-wkV"
      },
      "source": [
        "# Video: Learn MicroPython #4 - Interrupts\n",
        "\n",
        "from machine import Pin\n",
        "\n",
        "led = Pin(2, Pin.OUT)\n",
        "btn = Pin(0, Pin.IN)\n",
        "\n",
        "def my_func(pin):\n",
        "    print(\"rising!\")\n",
        "\n",
        "# Interrupt Request\n",
        "btn.irq(my_func, Pin.IRQ_RISING)"
      ],
      "execution_count": null,
      "outputs": []
    },
    {
      "cell_type": "markdown",
      "metadata": {
        "id": "trRnMGGpEWPq"
      },
      "source": [
        "JSon"
      ]
    },
    {
      "cell_type": "code",
      "metadata": {
        "id": "HiwnEMm0EdId"
      },
      "source": [
        "do not work"
      ],
      "execution_count": null,
      "outputs": []
    },
    {
      "cell_type": "markdown",
      "metadata": {
        "id": "_h-fzeXQoZu_"
      },
      "source": [
        "Acess Point (Web Servidor without router)"
      ]
    },
    {
      "cell_type": "code",
      "metadata": {
        "id": "4GbdicT1oX0E"
      },
      "source": [
        "try:\n",
        "    import usocket as socket\n",
        "except:\n",
        "    import socket\n",
        "  \n",
        "import network\n",
        "import esp\n",
        "import uos\n",
        "\n",
        "uname = uos.uname()\n",
        "\n",
        "ap = network.WLAN(network.AP_IF)\n",
        "ap.active(True)\n",
        "\n",
        "ssid = \"ssid\"\n",
        "password = \"password\"\n",
        "#ap.wlan.connect(ssid='eduoram', auth=(WLAN.WPA2_ENT, 'email@estsetubal.ips.pt', 'password'), identity='email@estsetubal.ips.pt')\n",
        "ap.config(essid=ssid, password=password)\n",
        "\n",
        "while ap.active() == False:\n",
        "    pass\n",
        "\n",
        "print('Access Point Active')\n",
        "print(ap.ifconfig())\n",
        "print(\"Connect to \" + ssid + \":\" + \"password = \" + password);\n",
        "print(\"Visit: \" + ap.ifconfig()[2] + \":80\")\n",
        "\n",
        "print('===== ===== =====')\n",
        "\n",
        "res_01 = \"\"\"<html>\n",
        "    <head><meta name=\"viewport\" content=\"width=device-width, initial-scale=1\"></head>\n",
        "    <body>\n",
        "    <h1>Hello, MicroPython@ESP32!</h1>\"\"\"\n",
        "res_02= \"\"\"\n",
        "    </body>\n",
        "    </html>\"\"\"\n",
        "\n",
        "res_something = \"sysname: \" + uname.sysname + \"<br/>\"\\\n",
        "    \"nodename: \" + uname.nodename + \"<br/>\" +\\\n",
        "    \"release: \" + uname.release + \"<br/>\" +\\\n",
        "    \"version: \" + uname.version + \"<br/>\" +\\\n",
        "    \"machine: \" + uname.machine + \"<br/>\"\n",
        "\n",
        "s = socket.socket(socket.AF_INET, socket.SOCK_STREAM)\n",
        "s.bind(('', 80))\n",
        "s.listen(5)\n",
        "\n",
        "while True:\n",
        "    conn, addr = s.accept()\n",
        "    youraddr = str(addr)\n",
        "    request = conn.recv(1024)\n",
        "\n",
        "    conn.send(res_01)\n",
        "    conn.send(res_something)\n",
        "    conn.send(\"<br/><br/>\")\n",
        "    conn.send(youraddr)\n",
        "    conn.send(\"<br/><br/>\")\n",
        "    conn.send(request)\n",
        "    conn.send(res_02)\n",
        "    conn.close()"
      ],
      "execution_count": null,
      "outputs": []
    },
    {
      "cell_type": "code",
      "metadata": {
        "id": "euKztT4F3JQ5"
      },
      "source": [
        "# Complete project details at https://randomnerdtutorials.com/micropython-esp32-esp8266-access-point-ap/\n",
        "\n",
        "try:\n",
        "  import usocket as socket\n",
        "except:\n",
        "  import socket\n",
        "\n",
        "import network\n",
        "\n",
        "import esp\n",
        "esp.osdebug(None)\n",
        "\n",
        "import gc\n",
        "gc.collect()\n",
        "\n",
        "ssid = 'MicroPython-AP'\n",
        "password = '123456789'\n",
        "\n",
        "ap = network.WLAN(network.AP_IF)\n",
        "ap.active(True)\n",
        "ap.config(essid=ssid, password=password)\n",
        "\n",
        "while ap.active() == False:\n",
        "  pass\n",
        "\n",
        "print('Connection successful')\n",
        "print(ap.ifconfig())\n",
        "\n",
        "def web_page():\n",
        "  html = \"\"\"<html><head><meta name=\"viewport\" content=\"width=device-width, initial-scale=1\"></head>\n",
        "  <body><h1>Hello, World!</h1><p></p>Página gerada pelo ESP32</body></html>\"\"\"\n",
        "  return html\n",
        "\n",
        "s = socket.socket(socket.AF_INET, socket.SOCK_STREAM)\n",
        "s.bind(('', 80))\n",
        "s.listen(5)\n",
        "\n",
        "while True:\n",
        "  conn, addr = s.accept()\n",
        "  print('Got a connection from %s' % str(addr))\n",
        "  request = conn.recv(1024)\n",
        "  print('Content = %s' % str(request))\n",
        "  response = web_page()\n",
        "  conn.send(response)\n",
        "  conn.close()\n"
      ],
      "execution_count": null,
      "outputs": []
    },
    {
      "cell_type": "markdown",
      "metadata": {
        "id": "xRZBEzdI5K0f"
      },
      "source": [
        "Simple Server em Micropython\n",
        "\n",
        "lan_simples.py\n",
        "Simple Server em Micropython\n",
        "\n",
        "lan_simples.py\n",
        "https://www.youtube.com/watch?v=QopRAwUP5ds&feature=emb_rel_end"
      ]
    },
    {
      "cell_type": "code",
      "metadata": {
        "id": "uiH9OTwq5d_Y"
      },
      "source": [
        "try:\n",
        "    import usocket as socket\n",
        "except:\n",
        "    import socket\n",
        "  \n",
        "import network\n",
        "import esp\n",
        "import uos\n",
        "\n",
        "uname = uos.uname()\n",
        "\n",
        "ap = network.WLAN(network.AP_IF)\n",
        "ap.active(True)\n",
        "\n",
        "ssid = \"MPython_ESP32\"\n",
        "password = \"teste123\"\n",
        "ap.config(essid=ssid, password=password)\n",
        "\n",
        "while ap.active() == False:\n",
        "    pass\n",
        "\n",
        "print('Access Point Active')\n",
        "print(ap.ifconfig())\n",
        "print(\"Connect to \" + ssid + \":\" + \"password = \" + password);\n",
        "print(\"Visit: \" + ap.ifconfig()[2] + \":80\")\n",
        "\n",
        "print('===== ===== =====')\n",
        "\n",
        "res_01 = \"\"\"<html>\n",
        "    <head><meta name=\"viewport\" content=\"width=device-width, initial-scale=1\"></head>\n",
        "    <body>\n",
        "    <h1>Hello, MicroPython@ESP32!</h1>\"\"\"\n",
        "res_02= \"\"\"\n",
        "    </body>\n",
        "    </html>\"\"\"\n",
        "\n",
        "res_something = \"sysname: \" + uname.sysname + \"<br/>\"\\\n",
        "    \"nodename: \" + uname.nodename + \"<br/>\" +\\\n",
        "    \"release: \" + uname.release + \"<br/>\" +\\\n",
        "    \"version: \" + uname.version + \"<br/>\" +\\\n",
        "    \"machine: \" + uname.machine + \"<br/>\"\n",
        "\n",
        "s = socket.socket(socket.AF_INET, socket.SOCK_STREAM)\n",
        "s.bind(('', 80))\n",
        "s.listen(5)\n",
        "\n",
        "while True:\n",
        "    conn, addr = s.accept()\n",
        "    youraddr = str(addr)\n",
        "    request = conn.recv(1024)\n",
        "\n",
        "    conn.send(res_01)\n",
        "    conn.send(res_something)\n",
        "    conn.send(\"<br/><br/>\")\n",
        "    conn.send(youraddr)\n",
        "    conn.send(\"<br/><br/>\")\n",
        "    conn.send(request)\n",
        "    conn.send(res_02)\n",
        "    conn.close()"
      ],
      "execution_count": null,
      "outputs": []
    },
    {
      "cell_type": "code",
      "metadata": {
        "id": "SlmPvF1WXuIw"
      },
      "source": [
        "#Funciona em main.py \n",
        "#Complete project details at https://randomnerdtutorials.com/micropython-esp32-esp8266-access-point-ap/\n",
        "\n",
        "try:\n",
        "  import usocket as socket\n",
        "except:\n",
        "  import socket\n",
        "\n",
        "from machine import Pin\n",
        "import network\n",
        "\n",
        "import esp\n",
        "esp.osdebug(None)\n",
        "\n",
        "import gc\n",
        "gc.collect()\n",
        "\n",
        "ssid = 'MicroPython-AP'\n",
        "password = '123456789'\n",
        "\n",
        "ap = network.WLAN(network.AP_IF)\n",
        "ap.active(True)\n",
        "ap.config(essid=ssid, password=password)\n",
        "\n",
        "while ap.active() == False:\n",
        "  pass\n",
        "\n",
        "print('Connection successful')\n",
        "print(ap.ifconfig())\n",
        "\n",
        "led = Pin(2, Pin.OUT)\n",
        "\n",
        "def web_page():\n",
        "  if led.value() == 1:\n",
        "    gpio_state=\"ON\"\n",
        "  else:\n",
        "    gpio_state=\"OFF\"\n",
        "  \n",
        "  html = \"\"\"<html><head> <title>ESP Web Server</title> <meta name=\"viewport\" content=\"width=device-width, initial-scale=1\">\n",
        "  <link rel=\"icon\" href=\"data:,\"> <style>html{font-family: Helvetica; display:inline-block; margin: 0px auto; text-align: center;}\n",
        "  h1{color: #0F3376; padding: 2vh;}p{font-size: 1.5rem;}.button{display: inline-block; background-color: #e7bd3b; border: none; \n",
        "  border-radius: 4px; color: white; padding: 16px 40px; text-decoration: none; font-size: 30px; margin: 2px; cursor: pointer;}\n",
        "  .button2{background-color: #4286f4;}</style></head><body> <h1>ESP Web Server</h1> \n",
        "  <p>GPIO state: <strong>\"\"\" + gpio_state + \"\"\"</strong></p><p><a href=\"/?led=on\"><button class=\"button\">ON</button></a></p>\n",
        "  <p><a href=\"/?led=off\"><button class=\"button button2\">OFF</button></a></p></body></html>\"\"\"\n",
        "  return html\n",
        "\n",
        "s = socket.socket(socket.AF_INET, socket.SOCK_STREAM)\n",
        "s.bind(('', 80))\n",
        "s.listen(5)\n",
        "\n",
        "while True:\n",
        "  conn, addr = s.accept()\n",
        "  print('Got a connection from %s' % str(addr))\n",
        "  request = conn.recv(1024)\n",
        "  request = str(request)\n",
        "  print('Content = %s' % request)\n",
        "  led_on = request.find('/?led=on')\n",
        "  led_off = request.find('/?led=off')\n",
        "  if led_on == 6:\n",
        "    print('LED ON')\n",
        "    led.value(1)\n",
        "  if led_off == 6:\n",
        "    print('LED OFF')\n",
        "    led.value(0)\n",
        "  response = web_page()\n",
        "  conn.send('HTTP/1.1 200 OK\\n')\n",
        "  conn.send('Content-Type: text/html\\n')\n",
        "  conn.send('Connection: close\\n\\n')\n",
        "  conn.sendall(response)\n",
        "  conn.close()\n"
      ],
      "execution_count": null,
      "outputs": []
    }
  ]
}