{
  "nbformat": 4,
  "nbformat_minor": 0,
  "metadata": {
    "colab": {
      "name": "Curso_Python.ipynb",
      "provenance": [],
      "collapsed_sections": [],
      "authorship_tag": "ABX9TyMDqq0nqrK2UAs6FtiZDj1l",
      "include_colab_link": true
    },
    "kernelspec": {
      "name": "python3",
      "display_name": "Python 3"
    }
  },
  "cells": [
    {
      "cell_type": "markdown",
      "metadata": {
        "id": "view-in-github",
        "colab_type": "text"
      },
      "source": [
        "<a href=\"https://colab.research.google.com/github/labF212/python/blob/main/Curso_Python.ipynb\" target=\"_parent\"><img src=\"https://colab.research.google.com/assets/colab-badge.svg\" alt=\"Open In Colab\"/></a>"
      ]
    },
    {
      "cell_type": "markdown",
      "metadata": {
        "id": "5bSJevjkWz3T"
      },
      "source": [
        "#Olá seja bem vindo a este manual de python/mycropython escrito em Jupyter.\n",
        "\n",
        "Curso Python Grátis: \n",
        "\n",
        "Python 101 – Introduction to Programming --> https://academy.zenva.com\n",
        "\n",
        "https://www.youtube.com/watch?v=rfscVS0vtbw - básico python\n",
        "\n",
        "Microphython\n",
        "https://www.youtube.com/watch?v=Rd9V6qEIfv4\n",
        "\n",
        "\n",
        "\n",
        "[Oled and utrasonic libraries](https://www.youtube.com/redirect?v=lCbE8M-5VS4&redir_token=QUFFLUhqbkFoOFZ5UmJDeGp6eUVuUVgydDEzX3JjYzg0d3xBQ3Jtc0trOU5Uc3hwXzI3Vk1TOEFDM1U4UHVyZG91YmxUZUNwdXRaTGJXS0xQVGE2ektpdDhqV0dJcktRWkhXbFM4QWR6ZGtHbzZrbzlTbWkycmVnWVdMckR3QWwwWVNnbTAyU05fRnpFTFpNSU44eXZaUW9lOA%3D%3D&event=video_description&q=http%3A%2F%2Fwww.alselectro.com%2Ffiles%2Fmicropython_oled_dht_ultrasonic.zip)\n",
        "\n",
        "##Declaração de variáveis"
      ]
    },
    {
      "cell_type": "code",
      "metadata": {
        "id": "17ivLAvQmwIO"
      },
      "source": [
        "a = 2\n",
        "b = 1.0"
      ],
      "execution_count": null,
      "outputs": []
    },
    {
      "cell_type": "code",
      "metadata": {
        "colab": {
          "base_uri": "https://localhost:8080/"
        },
        "id": "McPEONV3-W4Q",
        "outputId": "302d0345-1435-49c6-cda6-b0708f8e390e"
      },
      "source": [
        "\n",
        "idade = 20\n",
        "b = 1.0\n",
        "nome = \"pitão\"\n",
        "jogo_terminado = True\n",
        "print(type(a))\n",
        "print(type(b))\n",
        "print(type(idade))\n",
        "print(type(jogo_terminado))"
      ],
      "execution_count": null,
      "outputs": [
        {
          "output_type": "stream",
          "text": [
            "<class 'int'>\n",
            "<class 'float'>\n",
            "<class 'int'>\n",
            "<class 'bool'>\n"
          ],
          "name": "stdout"
        }
      ]
    },
    {
      "cell_type": "code",
      "metadata": {
        "id": "GQLxUtry6WUm"
      },
      "source": [
        ""
      ],
      "execution_count": null,
      "outputs": []
    },
    {
      "cell_type": "markdown",
      "metadata": {
        "id": "-3NN8w56X6FL"
      },
      "source": [
        "\n",
        "\n",
        "*   idade é um inteiro \n",
        "*   b é um decimal\n",
        "*   jogo_terminado é booleano, 0 ou 1, V ou F\n",
        "*   pitão é uma string, frase, conjunto de caracteres\n",
        "\n",
        "## Imprimir Variáveis e Manipulação de Strings\n",
        "\n",
        "\n",
        "\n"
      ]
    },
    {
      "cell_type": "code",
      "metadata": {
        "id": "fc30slNhX5Zh",
        "colab": {
          "base_uri": "https://localhost:8080/"
        },
        "outputId": "39bc0224-3105-4611-ad0a-3eedf82f3ba8"
      },
      "source": [
        "print (a) #inteiro \n",
        "print (b) #decimal\n",
        "print (a+b) #a soma de ambos é decimal\n",
        "c = int (a+b) ; print (c) #soma como inteiros\n",
        "nome_e_idade = \"Pitão: {}\".format(idade)\n",
        "print(nome_e_idade)\n",
        "frase_1 = \"antes\" ; frase_2 = \" depois\"\n",
        "print(frase_1+frase_2)"
      ],
      "execution_count": null,
      "outputs": [
        {
          "output_type": "stream",
          "text": [
            "2\n",
            "1.0\n",
            "3.0\n",
            "3\n",
            "Pitão: 20\n",
            "antes depois\n"
          ],
          "name": "stdout"
        }
      ]
    },
    {
      "cell_type": "markdown",
      "metadata": {
        "id": "Avz5unM7V6EN"
      },
      "source": [
        "Como vemos a soma de a + b resulta num número decimal"
      ]
    },
    {
      "cell_type": "markdown",
      "metadata": {
        "id": "q4IN51i8PusH"
      },
      "source": [
        "## Operadores\n",
        "\" + - * // % ** \""
      ]
    },
    {
      "cell_type": "code",
      "metadata": {
        "colab": {
          "base_uri": "https://localhost:8080/"
        },
        "id": "NO4tiTvrQLQy",
        "outputId": "6c3c333a-8424-47e1-9a76-2c6f5bf6620d"
      },
      "source": [
        "resto_divisao = 5 % 2\n",
        "print(resto_divisao)\n",
        "floor_division = 5 // 2\n",
        "print(floor_division)\n",
        "exponencial = 5 ** 2\n",
        "print(\"exponencial: \",exponencial)\n",
        "# x_posicao = x_ posicao + 1 <> x_posicao +=1\n",
        "x_posicao = 10\n",
        "x_posicao += 1\n",
        "print(\"x_posicao \",x_posicao)\n",
        "x_posicao **= 2\n",
        "print(\"x_posicao \",x_posicao)\n"
      ],
      "execution_count": null,
      "outputs": [
        {
          "output_type": "stream",
          "text": [
            "1\n",
            "2\n",
            "exponencial:  25\n",
            "x_posicao  11\n",
            "x_posicao  121\n"
          ],
          "name": "stdout"
        }
      ]
    },
    {
      "cell_type": "markdown",
      "metadata": {
        "id": "uAsTVaWJrgLs"
      },
      "source": [
        "## Operadores de comparação e Operadores lógicos\n",
        "\n",
        " Comparação: > >= < <= == !=\n",
        "\n",
        " Lógicos: not or and "
      ]
    },
    {
      "cell_type": "code",
      "metadata": {
        "colab": {
          "base_uri": "https://localhost:8080/"
        },
        "id": "3SBvaA9HsNsI",
        "outputId": "8cf74f3f-51ad-4c9f-f48a-a07bbb191545"
      },
      "source": [
        "x_position =1\n",
        "end_position = 10\n",
        "is_at_end = x_position == end_position\n",
        "print(is_at_end)\n",
        "is_at_halfway = x_position <= end_position / 2\n",
        "print(is_at_halfway)\n",
        "print(not is_at_halfway)\n",
        "score = 10\n",
        "is_game_over = score >= 10 or is_at_end #ou is_at_end = True\n",
        "print(is_game_over)"
      ],
      "execution_count": null,
      "outputs": [
        {
          "output_type": "stream",
          "text": [
            "False\n",
            "True\n",
            "False\n",
            "True\n"
          ],
          "name": "stdout"
        }
      ]
    },
    {
      "cell_type": "markdown",
      "metadata": {
        "id": "WNMXfSfuZlbb"
      },
      "source": [
        "#Listas"
      ]
    },
    {
      "cell_type": "code",
      "metadata": {
        "id": "z6b13R3bZ4K2",
        "colab": {
          "base_uri": "https://localhost:8080/"
        },
        "outputId": "eca7fb61-b47a-4a12-fded-3df05d8c0c0d"
      },
      "source": [
        "temperatura = [0, 3, 4, 5, 7, 6]\n",
        "print(len(temperatura)) #mostra dimensao da lista\n",
        "print (temperatura[1]) \n",
        "print (temperatura[0:2])\n"
      ],
      "execution_count": null,
      "outputs": [
        {
          "output_type": "stream",
          "text": [
            "6\n",
            "3\n",
            "[0, 3]\n"
          ],
          "name": "stdout"
        }
      ]
    },
    {
      "cell_type": "code",
      "metadata": {
        "id": "G73tkM7-am-M",
        "colab": {
          "base_uri": "https://localhost:8080/"
        },
        "outputId": "3d88f8b7-a415-47e6-d92a-bbd2f1685ab4"
      },
      "source": [
        "max (temperatura)"
      ],
      "execution_count": null,
      "outputs": [
        {
          "output_type": "execute_result",
          "data": {
            "text/plain": [
              "7"
            ]
          },
          "metadata": {
            "tags": []
          },
          "execution_count": 5
        }
      ]
    },
    {
      "cell_type": "code",
      "metadata": {
        "id": "5Bsvxt6ldark",
        "colab": {
          "base_uri": "https://localhost:8080/"
        },
        "outputId": "a75825e5-07d5-4644-bb39-c4076a109372"
      },
      "source": [
        "media = sum (temperatura)/len(temperatura)\n",
        "print (int(media))"
      ],
      "execution_count": null,
      "outputs": [
        {
          "output_type": "stream",
          "text": [
            "4\n"
          ],
          "name": "stdout"
        }
      ]
    },
    {
      "cell_type": "code",
      "metadata": {
        "id": "x_jGFkcBhGp1",
        "colab": {
          "base_uri": "https://localhost:8080/"
        },
        "outputId": "bdc5970b-f6d6-4e35-9237-bfef82a4836a"
      },
      "source": [
        "temperatura.append(2)\n",
        "print(temperatura)"
      ],
      "execution_count": null,
      "outputs": [
        {
          "output_type": "stream",
          "text": [
            "[0, 3, 4, 5, 7, 6, 2]\n"
          ],
          "name": "stdout"
        }
      ]
    },
    {
      "cell_type": "code",
      "metadata": {
        "id": "IZhEcZrq40rJ",
        "colab": {
          "base_uri": "https://localhost:8080/"
        },
        "outputId": "b1fde2f2-8a2f-4055-86ea-cab27ac856ce"
      },
      "source": [
        "#multiplica valores da lista por 2\n",
        "\n",
        "#n=[0,3,4,5,7,6,2]\n",
        "#n=temperatura\n",
        "def dobro(x):\n",
        "    for i in range(0, len(x)):\n",
        "        x[i]=x[i]*2\n",
        "    return x\n",
        "#print (dobro(n))\n",
        "temperatura2= dobro(temperatura)\n",
        "print(temperatura2)\n",
        "\n"
      ],
      "execution_count": null,
      "outputs": [
        {
          "output_type": "stream",
          "text": [
            "[0, 6, 8, 10, 14, 12, 4]\n"
          ],
          "name": "stdout"
        }
      ]
    },
    {
      "cell_type": "code",
      "metadata": {
        "id": "qnIjQG6qGdLU",
        "colab": {
          "base_uri": "https://localhost:8080/"
        },
        "outputId": "3a638a03-6462-4dbc-df36-521029bd5b9e"
      },
      "source": [
        "temperatura2=[0, 6, 8, 10, 14, 12, \"4\"]\n",
        "temperatura2[3] = 5 # altera posicao 10 de 8 para 5 \n",
        "temperatura2.append(25) #adiciona um item à lista\n",
        "temperatura2.insert(2,[1,2]) # inserir\n",
        "temperatura2.remove(14) # remove o valor\n",
        "del (temperatura2[5]) # remove a posição\n",
        "print(temperatura2)"
      ],
      "execution_count": null,
      "outputs": [
        {
          "output_type": "stream",
          "text": [
            "[0, 6, [1, 2], 8, 5, '4', 25]\n"
          ],
          "name": "stdout"
        }
      ]
    },
    {
      "cell_type": "markdown",
      "metadata": {
        "id": "uUpxS0u5L63M"
      },
      "source": [
        "\n",
        "# Tupples (objectos que não se podem modificar)"
      ]
    },
    {
      "cell_type": "code",
      "metadata": {
        "id": "krqIXTkUMHRo",
        "colab": {
          "base_uri": "https://localhost:8080/"
        },
        "outputId": "23d2aeb5-25f0-4d3c-ad93-72ac0ae6bdc8"
      },
      "source": [
        "acel=(1,2,3)\n",
        "print (acel[1])\n",
        "print(len(acel))\n",
        "print(2 in acel) #verifica se numero está contido\n",
        "def get_acelero():\n",
        "  x=20\n",
        "  y=23\n",
        "  z=-5\n",
        "  return ((x,y,z))\n",
        "x,y,z = get_acelero() #modifica o conteudo do tupple\n",
        "print(\"x= %d y= %d z= %d\" % (x, y,z))\n",
        "x"
      ],
      "execution_count": null,
      "outputs": [
        {
          "output_type": "stream",
          "text": [
            "2\n",
            "3\n",
            "True\n",
            "x= 20 y= 23 z= -5\n"
          ],
          "name": "stdout"
        },
        {
          "output_type": "execute_result",
          "data": {
            "text/plain": [
              "20"
            ]
          },
          "metadata": {
            "tags": []
          },
          "execution_count": 46
        }
      ]
    },
    {
      "cell_type": "markdown",
      "metadata": {
        "id": "87QZ2pQQ9Q2_"
      },
      "source": [
        "# Manipulação de strings"
      ]
    },
    {
      "cell_type": "code",
      "metadata": {
        "id": "peZxQM-N9hf3",
        "colab": {
          "base_uri": "https://localhost:8080/"
        },
        "outputId": "8bfe32b0-08bd-4db2-a66c-eadfb6bdfa84"
      },
      "source": [
        "a=\"manipula string\"\n",
        "print (a)\n",
        "print (a[0:2])\n",
        "print (a[3:])\n",
        "print (\"pula\" in a)\n",
        "print (len(a))"
      ],
      "execution_count": null,
      "outputs": [
        {
          "output_type": "stream",
          "text": [
            "manipula string\n",
            "ma\n",
            "ipula string\n",
            "True\n",
            "15\n"
          ],
          "name": "stdout"
        }
      ]
    },
    {
      "cell_type": "markdown",
      "metadata": {
        "id": "BxBlnkXDCiDC"
      },
      "source": [
        "# Dicionários"
      ]
    },
    {
      "cell_type": "code",
      "metadata": {
        "id": "Vd_sBQNjCqd9",
        "colab": {
          "base_uri": "https://localhost:8080/"
        },
        "outputId": "31b27ffd-118b-4402-ca95-d13039a7ea76"
      },
      "source": [
        "d={1:\"R 10k\",2:\"C 2uF\",5:\"LED RED\",12:\"LED GREEN\"}\n",
        "print(d)\n",
        "print(d[2])\n",
        "print(d.get(\"LED BLUE\")) #verifica se o item existe\n",
        "d[5]=\"Led Blue\" #altera o elemento 5\n",
        "d[11]=\"C 5nF\" #quando não existe adiciona novo elemento\n",
        "\n",
        "print(d.keys())\n",
        "print(d.values())\n",
        "print(d.items())\n",
        "d.pop(5) #apaga o 5 elemento\n",
        "print(1 in d) #verifica se existe o índice 1\n",
        "\n",
        "for i in d.values():\n",
        "  print (i)\n",
        "for i in d.keys():\n",
        "  print (i)\n",
        "for index,part in d.items():\n",
        "  print (\"{} está no compartimento {}\".format(part,index))"
      ],
      "execution_count": null,
      "outputs": [
        {
          "output_type": "stream",
          "text": [
            "{1: 'R 10k', 2: 'C 2uF', 5: 'LED RED', 12: 'LED GREEN'}\n",
            "C 2uF\n",
            "None\n",
            "dict_keys([1, 2, 5, 12, 11])\n",
            "dict_values(['R 10k', 'C 2uF', 'Led Blue', 'LED GREEN', 'C 5nF'])\n",
            "dict_items([(1, 'R 10k'), (2, 'C 2uF'), (5, 'Led Blue'), (12, 'LED GREEN'), (11, 'C 5nF')])\n",
            "True\n",
            "R 10k\n",
            "C 2uF\n",
            "LED GREEN\n",
            "C 5nF\n",
            "1\n",
            "2\n",
            "12\n",
            "11\n",
            "R 10k está no compartimento 1\n",
            "C 2uF está no compartimento 2\n",
            "LED GREEN está no compartimento 12\n",
            "C 5nF está no compartimento 11\n"
          ],
          "name": "stdout"
        }
      ]
    },
    {
      "cell_type": "markdown",
      "metadata": {
        "id": "k7iWIKlSdjL2"
      },
      "source": [
        "# Exemplos de if"
      ]
    },
    {
      "cell_type": "code",
      "metadata": {
        "id": "JHqGJ1Vgduiu",
        "colab": {
          "base_uri": "https://localhost:8080/"
        },
        "outputId": "1eb65143-d0fa-4e1d-8bea-7e1ae538a824"
      },
      "source": [
        "n = 5\n",
        "y = int(input(\"Adivinha um número entre 1 e 10: \"))\n",
        "if n is y:\n",
        "  print(\"Parabéns, você acertou!\") \n",
        "elif y > 5:\n",
        "  print (\"Grande\")\n",
        "else:\n",
        "  print(\"Pequeno\")"
      ],
      "execution_count": null,
      "outputs": [
        {
          "output_type": "stream",
          "text": [
            "Adivinha um número entre 1 e 10: 3\n",
            "Pequeno\n"
          ],
          "name": "stdout"
        }
      ]
    },
    {
      "cell_type": "code",
      "metadata": {
        "id": "i4JZTGxcAiTQ",
        "colab": {
          "base_uri": "https://localhost:8080/"
        },
        "outputId": "ef30f96c-249e-4400-e6bb-73c92d65513e"
      },
      "source": [
        "y= input(\"Escreva um nome: \")\n",
        "if \"ana\" in y:\n",
        "  print (\"ana está aqui\")\n",
        "  i = y.index(\"ana\")\n",
        "  print (\"ana está na posição: \",i+1)\n",
        "else:\n",
        "  print (\"não está cá\")\n"
      ],
      "execution_count": null,
      "outputs": [
        {
          "output_type": "stream",
          "text": [
            "Escreva um nome: teste\n",
            "não está cá\n"
          ],
          "name": "stdout"
        }
      ]
    },
    {
      "cell_type": "code",
      "metadata": {
        "colab": {
          "base_uri": "https://localhost:8080/"
        },
        "id": "ztyiFCy_hwzv",
        "outputId": "eecd2054-4c65-48cc-abac-9340827165e2"
      },
      "source": [
        "key= input(\"Escreva uma tecla: \")\n",
        "if key ==\"r\" or key ==\"R\":\n",
        "  print(\"pressionou r\")\n",
        "elif key ==\"l\" or key ==\"L\":\n",
        "  print(\"pressionou l\")\n",
        "else:\n",
        "  print(\"tecla inválida\")\n",
        "\n",
        "print(\"programa terminado\") "
      ],
      "execution_count": null,
      "outputs": [
        {
          "output_type": "stream",
          "text": [
            "Escreva uma tecla: L\n",
            "pressionou l\n",
            "programa terminado\n"
          ],
          "name": "stdout"
        }
      ]
    },
    {
      "cell_type": "code",
      "metadata": {
        "colab": {
          "base_uri": "https://localhost:8080/"
        },
        "id": "8JEVuKAHl8Jh",
        "outputId": "b7c01409-55d2-4154-ddfa-ecb4bcf2c46b"
      },
      "source": [
        "#Calculadora Simples\n",
        "\n",
        "continuar=\"s\" #identifica a variavel\n",
        "while continuar == \"s\": #se for verdade repete o loop\n",
        "    num1 = float(input(\"introduza 1º número: \"))\n",
        "    op = input(\"introduza o operador: \")\n",
        "    num2 = float(input(\"introduza 2º número: \"))\n",
        "     \n",
        "    if op == \"+\":\n",
        "        print(num1+num2)\n",
        "    elif op == \"-\":\n",
        "        print(num1-num2)\n",
        "    elif op == \"*\":\n",
        "        print(num1*num2)\n",
        "    elif op == \"/\":\n",
        "        print(num1/num2)\n",
        "    else: #verifica se é um operador válido\n",
        "        print(\"não é um operador\")\n",
        "        \n",
        "    continuar = input(\"Quer continuar (s):? \")\n",
        "    if continuar !=\"s\":\n",
        "        break #pára o programa se for diferente de s"
      ],
      "execution_count": null,
      "outputs": [
        {
          "output_type": "stream",
          "text": [
            "introduza 1º número: 3\n",
            "introduza o operador: 4\n",
            "introduza 2º número: 5\n",
            "não é um operador\n",
            "Quer continuar (s):? s\n",
            "introduza 1º número: 2\n",
            "introduza o operador: *\n",
            "introduza 2º número: 3\n",
            "6.0\n",
            "Quer continuar (s):? n\n"
          ],
          "name": "stdout"
        }
      ]
    },
    {
      "cell_type": "markdown",
      "metadata": {
        "id": "hBtlTOfBuqLL"
      },
      "source": [
        "## Exemplos ciclo While"
      ]
    },
    {
      "cell_type": "code",
      "metadata": {
        "colab": {
          "base_uri": "https://localhost:8080/"
        },
        "id": "Vp46OFrou3K0",
        "outputId": "30d5c183-316c-44cd-caba-c9ed045cc39c"
      },
      "source": [
        "import time #para se usar tempo de espera\n",
        "posicao = 0\n",
        "posicao_final = 5\n",
        "while posicao < posicao_final:\n",
        "  posicao +=1\n",
        "  print(posicao) \n",
        "  time. sleep(1) #espera 1s\n",
        "  s= input()\n",
        "  if s == \"s\":\n",
        "    print(\"parou a contagem\")\n",
        "    break\n",
        "\n",
        "print(\"chegou ao fim\")"
      ],
      "execution_count": null,
      "outputs": [
        {
          "output_type": "stream",
          "text": [
            "1\n",
            "s\n",
            "parou a contagem\n",
            "chegou ao fim\n"
          ],
          "name": "stdout"
        }
      ]
    },
    {
      "cell_type": "code",
      "metadata": {
        "colab": {
          "base_uri": "https://localhost:8080/"
        },
        "id": "ldOuKosagIsD",
        "outputId": "a14128ca-e3c2-4c7f-d48f-3088fb2a2930"
      },
      "source": [
        "#adivinha palavra\n",
        "secret_word=\"girafa\"\n",
        "guess=\"\"\n",
        "guess_count = 0\n",
        "guess_limit = 3\n",
        "out_of_guesses = False\n",
        "\n",
        "while guess != secret_word and not (out_of_guesses):\n",
        "  if guess_count < guess_limit:\n",
        "    guess = input(\"Introduza a palavra: \")\n",
        "    guess_count += 1\n",
        "  else:\n",
        "    out_of_guesses = True\n",
        "if out_of_guesses:\n",
        "  print(\"Você perdeu !!!\")\n",
        "else:\n",
        "  print(\"Você venceu !!!\")   "
      ],
      "execution_count": null,
      "outputs": [
        {
          "output_type": "stream",
          "text": [
            "Introduza a palavra: e\n",
            "Introduza a palavra: girafa\n",
            "Você venceu !!!\n"
          ],
          "name": "stdout"
        }
      ]
    },
    {
      "cell_type": "markdown",
      "metadata": {
        "id": "jL1zge2PEmPp"
      },
      "source": [
        "# Exemplos ciclo For"
      ]
    },
    {
      "cell_type": "code",
      "metadata": {
        "id": "aTXBySgxA85h",
        "colab": {
          "base_uri": "https://localhost:8080/"
        },
        "outputId": "fa53a9f4-6689-478f-ab43-75342404078d"
      },
      "source": [
        "#ciclo for\n",
        "\n",
        "lista =[\"a\",1,\"d\"]\n",
        "for i in lista:\n",
        "  print (i)\n",
        "\n"
      ],
      "execution_count": null,
      "outputs": [
        {
          "output_type": "stream",
          "text": [
            "a\n",
            "1\n",
            "d\n"
          ],
          "name": "stdout"
        }
      ]
    },
    {
      "cell_type": "code",
      "metadata": {
        "id": "-_7LKzivA401",
        "colab": {
          "base_uri": "https://localhost:8080/"
        },
        "outputId": "afe3e693-e79f-4f32-abf8-86c7cef24388"
      },
      "source": [
        "#ciclo for\n",
        "\n",
        "for i in range (12,0,-3):\n",
        "  print(i)"
      ],
      "execution_count": null,
      "outputs": [
        {
          "output_type": "stream",
          "text": [
            "12\n",
            "9\n",
            "6\n",
            "3\n"
          ],
          "name": "stdout"
        }
      ]
    },
    {
      "cell_type": "code",
      "metadata": {
        "colab": {
          "base_uri": "https://localhost:8080/"
        },
        "id": "D567mSyqqZiY",
        "outputId": "939a7154-2427-475d-c80a-8a8617267b30"
      },
      "source": [
        "for i in range(0,5):\n",
        "  print(\"OLÁ \",i)"
      ],
      "execution_count": null,
      "outputs": [
        {
          "output_type": "stream",
          "text": [
            "OLÁ  0\n",
            "OLÁ  1\n",
            "OLÁ  2\n",
            "OLÁ  3\n",
            "OLÁ  4\n"
          ],
          "name": "stdout"
        }
      ]
    },
    {
      "cell_type": "code",
      "metadata": {
        "colab": {
          "base_uri": "https://localhost:8080/"
        },
        "id": "Whs7Zv0LjdS7",
        "outputId": "42d10be0-35c5-4553-dc37-0ed2382c86dd"
      },
      "source": [
        "#For dentro de For (nested) para ler listas\n",
        "number_grid = [\n",
        "               [1,2,3],\n",
        "               [4,5,6],\n",
        "               [7,8,9],\n",
        "               [0]\n",
        "]\n",
        "\n",
        "for row in number_grid:\n",
        "  #print(row)\n",
        "  for col in row:\n",
        "    print(col)\n"
      ],
      "execution_count": null,
      "outputs": [
        {
          "output_type": "stream",
          "text": [
            "1\n",
            "2\n",
            "3\n",
            "4\n",
            "5\n",
            "6\n",
            "7\n",
            "8\n",
            "9\n",
            "0\n"
          ],
          "name": "stdout"
        }
      ]
    },
    {
      "cell_type": "markdown",
      "metadata": {
        "id": "540ZAhfReLGB"
      },
      "source": [
        "# Funções e Variáveis Globais"
      ]
    },
    {
      "cell_type": "code",
      "metadata": {
        "id": "tIiyTxZ7eRvI",
        "colab": {
          "base_uri": "https://localhost:8080/"
        },
        "outputId": "f795f1fc-970a-43fa-ccee-5b3500a7104b"
      },
      "source": [
        "def test():\n",
        "  global x #global\n",
        "  print (x)\n",
        "x=10\n",
        "test()\n"
      ],
      "execution_count": null,
      "outputs": [
        {
          "output_type": "stream",
          "text": [
            "10\n"
          ],
          "name": "stdout"
        }
      ]
    },
    {
      "cell_type": "code",
      "metadata": {
        "colab": {
          "base_uri": "https://localhost:8080/"
        },
        "id": "FNTTie43IKsP",
        "outputId": "6bc8e046-33e3-44e8-d060-e8ee02563963"
      },
      "source": [
        "pos = 0\n",
        "\n",
        "def mover_jogador():\n",
        "  global pos #chama a variável global\n",
        "  pos +=1\n",
        "  print(pos)\n",
        "\n",
        "for x in range (6): #repete a funcao 6 vezes\n",
        "  mover_jogador() #chama a funcao sem parametros"
      ],
      "execution_count": null,
      "outputs": [
        {
          "output_type": "stream",
          "text": [
            "1\n",
            "2\n",
            "3\n",
            "4\n",
            "5\n",
            "6\n"
          ],
          "name": "stdout"
        }
      ]
    },
    {
      "cell_type": "code",
      "metadata": {
        "colab": {
          "base_uri": "https://localhost:8080/"
        },
        "id": "kCFAGBSehr4D",
        "outputId": "fc890021-903b-4471-d4a7-7c5e37d3c8cd"
      },
      "source": [
        "#passagem de parâmetros (valores) para dentro da função\n",
        "pos = 0\n",
        "\n",
        "def mover_jogador(pos,quantidade):\n",
        "  pos += quantidade\n",
        "  print(pos)\n",
        "\n",
        "for x in range (6): #repete a funcao 6 vezes  \n",
        "  mover_jogador(pos,x) #chama a funcao com parametros\n"
      ],
      "execution_count": null,
      "outputs": [
        {
          "output_type": "stream",
          "text": [
            "0\n",
            "1\n",
            "2\n",
            "3\n",
            "4\n",
            "5\n"
          ],
          "name": "stdout"
        }
      ]
    },
    {
      "cell_type": "code",
      "metadata": {
        "colab": {
          "base_uri": "https://localhost:8080/"
        },
        "id": "YkIh5q90brvu",
        "outputId": "36b4ac09-7785-4130-889f-63bde5ebe27f"
      },
      "source": [
        "#retornar valores das funções\n",
        "\n",
        "def cube(num):\n",
        "  return num*num*num # numero^3\n",
        "\n",
        "numero = 5\n",
        "result = cube(numero)\n",
        "print(\"o número ao cubo de: \" + str(numero) + \" é \" + str(result))"
      ],
      "execution_count": null,
      "outputs": [
        {
          "output_type": "stream",
          "text": [
            "o número ao cubo de: 5 é 125\n"
          ],
          "name": "stdout"
        }
      ]
    },
    {
      "cell_type": "code",
      "metadata": {
        "colab": {
          "base_uri": "https://localhost:8080/"
        },
        "id": "c0ygBMFfhPd8",
        "outputId": "ae5837ac-3bfb-445e-bbd7-1607bbf633b3"
      },
      "source": [
        "'''\n",
        "loop de if dentro de um for\n",
        "pequeno tradutor\n",
        "(este foi um ememplo de comentário longo :)\n",
        "'''\n",
        "\n",
        "def translate(frase):\n",
        "  translation = \"\"\n",
        "  for letter in frase:\n",
        "    if letter.lower() in \"aeiou\": #permite fazer com que seja possivel ler maiusculas e minusculas\n",
        "      if letter.isupper(): #se forem maiusculas\n",
        "        translation = translation + \"G\" #maiscula se for vogal\n",
        "      else:\n",
        "        translation = translation + \"g\" #minuscula se for vogal\n",
        "    else:\n",
        "      translation = translation + letter #escreve a letra caso nao seja vogal\n",
        "  return translation\n",
        "\n",
        "\n",
        "print(translate(input(\"Introduza uma frase a ser traduzida: \")))"
      ],
      "execution_count": null,
      "outputs": [
        {
          "output_type": "stream",
          "text": [
            "Introduza uma frase a ser traduzida: Conta ceRta\n",
            "Cgntg cgRtg\n"
          ],
          "name": "stdout"
        }
      ]
    },
    {
      "cell_type": "markdown",
      "metadata": {
        "id": "jcoFuB1CpTvc"
      },
      "source": [
        "## Try e Except - Ou como lidar com erros"
      ]
    },
    {
      "cell_type": "code",
      "metadata": {
        "colab": {
          "base_uri": "https://localhost:8080/"
        },
        "id": "O-hF2rgxpd9e",
        "outputId": "d6bc1861-4af4-4abb-a560-b332632dffd9"
      },
      "source": [
        "#o except permite que o programa NAO BLOQUEIE quando existe um erro\n",
        "#este programa deteta todos os erros mas não sabemos qual\n",
        "\n",
        "try: \n",
        "  numero = int(input(\"introduza um número: \"))\n",
        "  print(numero)\n",
        "except:\n",
        "  print(\"numero inválido\")"
      ],
      "execution_count": null,
      "outputs": [
        {
          "output_type": "stream",
          "text": [
            "introduza um número: t\n",
            "numero inválido\n"
          ],
          "name": "stdout"
        }
      ]
    },
    {
      "cell_type": "code",
      "metadata": {
        "colab": {
          "base_uri": "https://localhost:8080/"
        },
        "id": "zlwS9E8VwHw0",
        "outputId": "eccfba19-bf92-4367-90d3-e26b88f9e860"
      },
      "source": [
        "''' \n",
        "este programa testa se o numero é inteiro e se o numerador é zero\n",
        "e só termina quando não existem erros\n",
        "'''\n",
        "\n",
        "a=0\n",
        "def divisao():\n",
        "  \n",
        "  print(\"Divisão de número inteiros\")\n",
        "  numerador = int(input(\"introduza um número: \"))\n",
        "  denominador = int(input(\"introduza um número: \"))\n",
        "  div = numerador/denominador\n",
        "  if isinstance(div, float)== True:\n",
        "    print(div)\n",
        "\n",
        "\n",
        "\n",
        "while a<1: \n",
        "  #print(a)\n",
        "  try: \n",
        "    divisao()\n",
        "  except ZeroDivisionError as err: #indica se a divisão for feita por 0\n",
        "    print(\"divisão por 0\")\n",
        "    print(err) #imprime o erro do python\n",
        "    a=0\n",
        "  #divisao()\n",
        "  except ValueError as err: #indica se colocou um caracter ou se não é inteiro\n",
        "    print(\"numero inválido\")\n",
        "    print(err)\n",
        "    a=0\n",
        "  else:\n",
        "      a=2\n",
        "      break\n"
      ],
      "execution_count": null,
      "outputs": [
        {
          "output_type": "stream",
          "text": [
            "Divisão de número inteiros\n",
            "introduza um número: 2\n",
            "introduza um número: t\n",
            "numero inválido\n",
            "invalid literal for int() with base 10: 't'\n",
            "Divisão de número inteiros\n",
            "introduza um número: 4\n",
            "introduza um número: 0\n",
            "divisão por 0\n",
            "division by zero\n",
            "Divisão de número inteiros\n",
            "introduza um número: 4\n",
            "introduza um número: 5\n",
            "0.8\n"
          ],
          "name": "stdout"
        }
      ]
    },
    {
      "cell_type": "markdown",
      "metadata": {
        "id": "KiZZSzzEzmiL"
      },
      "source": [
        "##Objectos e Classes\n",
        "As classes servem para criar novos tipo de dados, sem ser por exemplo, booleano. Podem por exemplo, definir o que é o telemóvel."
      ]
    },
    {
      "cell_type": "code",
      "metadata": {
        "colab": {
          "base_uri": "https://localhost:8080/"
        },
        "id": "5xfjHqxcztoI",
        "outputId": "e53058d9-d1d1-49af-dd52-ce25cb950a48"
      },
      "source": [
        "class GameObject:\n",
        "\n",
        "  def __init__(self,nome,x_pos,y_pos):\n",
        "    self.nome = nome\n",
        "    self.x_pos = x_pos\n",
        "    self.y_pos = y_pos\n",
        "\n",
        "game_object = GameObject(\"Inimigo\",1,2)\n",
        "print(game_object.nome)\n",
        "\n",
        "game_object.nome = \"Inimigo 0\"\n",
        "print(game_object.nome)\n",
        "\n",
        "game_object = GameObject(\"Inimigo 1\",3,2)\n",
        "print(game_object.nome)\n",
        "print(game_object.x_pos)\n",
        "print(game_object.y_pos)"
      ],
      "execution_count": null,
      "outputs": [
        {
          "output_type": "stream",
          "text": [
            "Inimigo\n",
            "Inimigo 0\n",
            "Inimigo 1\n",
            "3\n",
            "2\n"
          ],
          "name": "stdout"
        }
      ]
    },
    {
      "cell_type": "code",
      "metadata": {
        "colab": {
          "base_uri": "https://localhost:8080/"
        },
        "id": "Yiqku1q_lQLz",
        "outputId": "3a3a3cb8-2ed2-43c4-c1d1-27cf744c0f42"
      },
      "source": [
        "#Herança (Inheritance) ou subclasse\n",
        "class GameObject: # this is now the superclass\n",
        "    \n",
        "    def __init__(self, name, x_pos, y_pos):\n",
        "        self.name = name\n",
        "        self.x_pos = x_pos\n",
        "        self.y_pos = y_pos\n",
        "\n",
        "    def move(self, by_x_amount, by_y_amount):\n",
        "        self.x_pos += by_x_amount\n",
        "        self.y_pos += by_y_amount\n",
        "    \n",
        "# create a subclass that inherits from GameObject class\n",
        "class Enemy(GameObject):\n",
        "    \n",
        "    # implement different initializer function with additional attributes\n",
        "    def __init__(self, name, x_pos, y_pos, health):\n",
        "        super().__init__(name, x_pos, y_pos)\n",
        "        self.health = health\n",
        "    \n",
        "    # implement function to reduce health\n",
        "    def take_damage(self, amount):  \n",
        "        self.health -= amount\n",
        "\n",
        "\n",
        "def cor():\n",
        "  while enemy.health>10:\n",
        "    enemy.take_damage(20)\n",
        "    print(enemy.health)\n",
        "    if enemy.health > 20:\n",
        "      print (\"Blue\")\n",
        "    else:\n",
        "      print(\"red\")\n",
        "  #print(enemy.cor)\n",
        "  \n",
        "  \n",
        "\n",
        "\n",
        "\n",
        "game_object = GameObject(\"Game object\", 1, 2)\n",
        "\n",
        "# create an enemy object\n",
        "enemy = Enemy(\"Enemy\", 5, 10, 100)\n",
        "\n",
        "print(game_object.name)\n",
        "print(enemy.name)\n",
        "\n",
        "# only the subclass has access to the new take_damage function\n",
        "enemy.take_damage(20)\n",
        "print(enemy.health)\n",
        "\n",
        "cor()\n",
        "\n",
        "\n"
      ],
      "execution_count": null,
      "outputs": [
        {
          "output_type": "stream",
          "text": [
            "Game object\n",
            "Enemy\n",
            "80\n",
            "60\n",
            "Blue\n",
            "40\n",
            "Blue\n",
            "20\n",
            "red\n",
            "0\n",
            "red\n"
          ],
          "name": "stdout"
        }
      ]
    },
    {
      "cell_type": "code",
      "metadata": {
        "id": "_IirrhCdltA4",
        "colab": {
          "base_uri": "https://localhost:8080/"
        },
        "outputId": "e48048f9-b4a5-41b8-af31-993683b1ebcf"
      },
      "source": [
        "#classe com as descrições do estudante\n",
        "class Estudante: #tem os atributos\n",
        "  \n",
        "  def __init__(self, nome, idade, telefone, inscrito): \n",
        "    self.nome = nome\n",
        "    self.idade = idade\n",
        "    self.telefone = telefone\n",
        "    self.inscrito = inscrito\n",
        "\n",
        "#object é o conteudo (informação) da classe\n",
        "\n",
        "#pode-se criar o ficheiro estudante.py onde temos a class criada\n",
        "# from estudante import Estudante\n",
        "#do ficheiro estudante.py importa a class Estudante\n",
        "\n",
        "aluno1 = Estudante(\"Jim\",18,123456788,False) #aluno 1 é um objecto\n",
        "aluno2 = Estudante(\"Ana\",21,163456788,True)  #aluno 2 é um objecto\n",
        "\n",
        "print(aluno1.nome)\n",
        "print(aluno2.inscrito)"
      ],
      "execution_count": null,
      "outputs": [
        {
          "output_type": "stream",
          "text": [
            "Jim\n",
            "True\n"
          ],
          "name": "stdout"
        }
      ]
    },
    {
      "cell_type": "code",
      "metadata": {
        "colab": {
          "base_uri": "https://localhost:8080/",
          "height": 17
        },
        "id": "rbsp4nU0ttpI",
        "outputId": "d0e0bfc5-8e31-43de-c413-d354c8d656f6"
      },
      "source": [
        "\n",
        "'''\n",
        "#------------------------------------------------------------------\n",
        "#from car import Car\n",
        "car_1 = Car(\"Chevy\",\"Corvette\",2021,\"blue\")\n",
        "car_2 = Car(\"Ford\",\"Mustang\",2022,\"red\")\n",
        "\n",
        "car_1.drive()\n",
        "car_2.stop()\n",
        "\n",
        "#------------------------------------------------------------------\n",
        "'''\n",
        "\n",
        "class Car:\n",
        "    #variável de define os atributos, como é o objeto\n",
        "    def __init__(self,make,model,year,color):\n",
        "        self.make = make\n",
        "        self.model = model\n",
        "        self.year = year\n",
        "        self.color = color\n",
        "\n",
        "    #define os métodos = acções que o objecto consegue fazer\n",
        "    def drive(self):\n",
        "        print(\"This \"+self.model+\" is driving\")\n",
        "\n",
        "    def stop(self):\n",
        "        print(\"This \"+self.model+\" is stopped\")\n",
        "#------------------------------------------------------------------\n",
        "#caso use o ficheiro car.py apague as linhas seguintes\n",
        "\n",
        "car_1 = Car(\"Chevy\",\"Corvette\",2021,\"blue\")\n",
        "car_2 = Car(\"Ford\",\"Mustang\",2022,\"red\")\n",
        "\n",
        "#aceder atributos\n",
        "print(car_1.model)\n",
        "print(car_2.color)\n",
        "\n",
        "#aceder aos métodos\n",
        "car_1.drive()\n",
        "car_2.stop()"
      ],
      "execution_count": null,
      "outputs": [
        {
          "output_type": "error",
          "ename": "NameError",
          "evalue": "ignored",
          "traceback": [
            "\u001b[0;31m---------------------------------------------------------------------------\u001b[0m",
            "\u001b[0;31mNameError\u001b[0m                                 Traceback (most recent call last)",
            "\u001b[0;32m<ipython-input-5-a1236196e910>\u001b[0m in \u001b[0;36m<module>\u001b[0;34m()\u001b[0m\n\u001b[1;32m     32\u001b[0m \u001b[0mcar_2\u001b[0m \u001b[0;34m=\u001b[0m \u001b[0mCar\u001b[0m\u001b[0;34m(\u001b[0m\u001b[0;34m\"Ford\"\u001b[0m\u001b[0;34m,\u001b[0m\u001b[0;34m\"Mustang\"\u001b[0m\u001b[0;34m,\u001b[0m\u001b[0;36m2022\u001b[0m\u001b[0;34m,\u001b[0m\u001b[0;34m\"red\"\u001b[0m\u001b[0;34m)\u001b[0m\u001b[0;34m\u001b[0m\u001b[0;34m\u001b[0m\u001b[0m\n\u001b[1;32m     33\u001b[0m \u001b[0;34m\u001b[0m\u001b[0m\n\u001b[0;32m---> 34\u001b[0;31m \u001b[0mprint\u001b[0m\u001b[0;34m(\u001b[0m\u001b[0mcar1\u001b[0m\u001b[0;34m.\u001b[0m\u001b[0mmodel\u001b[0m\u001b[0;34m)\u001b[0m\u001b[0;34m\u001b[0m\u001b[0;34m\u001b[0m\u001b[0m\n\u001b[0m\u001b[1;32m     35\u001b[0m \u001b[0;34m\u001b[0m\u001b[0m\n\u001b[1;32m     36\u001b[0m \u001b[0mcar_1\u001b[0m\u001b[0;34m.\u001b[0m\u001b[0mdrive\u001b[0m\u001b[0;34m(\u001b[0m\u001b[0;34m)\u001b[0m \u001b[0;31m#metodos\u001b[0m\u001b[0;34m\u001b[0m\u001b[0;34m\u001b[0m\u001b[0m\n",
            "\u001b[0;31mNameError\u001b[0m: name 'car1' is not defined"
          ]
        }
      ]
    },
    {
      "cell_type": "markdown",
      "metadata": {
        "id": "_7g8xOKIsUno"
      },
      "source": [
        "PT\n",
        "#Lambda Expressions & Anonymous Functions"
      ]
    },
    {
      "cell_type": "markdown",
      "metadata": {
        "id": "j4UE3khe1X0_"
      },
      "source": [
        "#Função MAP (converter um conjunto de valores dentro de uma lista)"
      ]
    },
    {
      "cell_type": "code",
      "metadata": {
        "colab": {
          "base_uri": "https://localhost:8080/"
        },
        "id": "DEoNur9q1kOz",
        "outputId": "25a72281-5f60-4d0b-e368-db392dbdc131"
      },
      "source": [
        "#https://www.youtube.com/watch?v=gTEO5-MK7B0&list=PLZPZq0r_RZOOkUQbat8LyQii36cJf2SWT&index=55\n",
        "# map() =   applies a function to each item in an iterable (list, tuple, etc.)\n",
        "\n",
        "# map(function,iterable)\n",
        "\n",
        "store = [(\"shirt\",20.00),\n",
        "         (\"pants\",25.00),\n",
        "         (\"jacket\",50.00),\n",
        "         (\"socks\",10.00)]\n",
        "\n",
        "to_euros = lambda data: (data[0],data[1]*0.82)\n",
        "\n",
        "# to_dollars = lambda data: (data[0],data[1]/0.82)\n",
        "\n",
        "store_euros = list(map(to_euros, store))\n",
        "\n",
        "\n",
        "for i in store_euros:\n",
        "    print(i)"
      ],
      "execution_count": null,
      "outputs": [
        {
          "output_type": "stream",
          "text": [
            "('shirt', 16.4)\n",
            "('pants', 20.5)\n",
            "('jacket', 41.0)\n",
            "('socks', 8.2)\n"
          ],
          "name": "stdout"
        }
      ]
    },
    {
      "cell_type": "markdown",
      "metadata": {
        "id": "ll-jbjjQskF8"
      },
      "source": [
        "Juntar nomes"
      ]
    },
    {
      "cell_type": "code",
      "metadata": {
        "colab": {
          "base_uri": "https://localhost:8080/"
        },
        "id": "XluZROkJseLh",
        "outputId": "8564d7d6-bd51-4025-80d0-cf55279c9960"
      },
      "source": [
        "#https://www.youtube.com/watch?v=25ovCm9jKfA\n",
        "\n",
        "g= lambda x: 3*x+1\n",
        "print(g(2))\n",
        "\n",
        "multiply = lambda x, y: x * y\n",
        "print(multiply(1,2))\n",
        "\n",
        "\n",
        "conta = lambda x, y: x+y #media geometrica\n",
        "print(conta(2,3))\n",
        "\n",
        "\n",
        "nome_completo= lambda fn, ln: fn.strip().title() + \" \" + ln.strip().title() #retira caracteres   mais e poe nomes correctamente\n",
        "\n",
        "print(nome_completo (\" leonard\",\"Euler\"))"
      ],
      "execution_count": null,
      "outputs": [
        {
          "output_type": "stream",
          "text": [
            "7\n",
            "2\n",
            "5\n",
            "Leonard Euler\n"
          ],
          "name": "stdout"
        }
      ]
    },
    {
      "cell_type": "markdown",
      "metadata": {
        "id": "77SNXFf0HBdz"
      },
      "source": [
        "\n",
        "# Memória"
      ]
    },
    {
      "cell_type": "code",
      "metadata": {
        "id": "5ozCtNrSHVAr",
        "colab": {
          "base_uri": "https://localhost:8080/"
        },
        "outputId": "d76acae3-f129-40fc-f478-5a11245ee0f2"
      },
      "source": [
        "stra=\"ola\"\n",
        "strb=\"ola\"\n",
        "(stra==strb)\n",
        "print(stra==strb)\n",
        "\n",
        "(stra is strb)\n",
        "print(stra is strb)\n",
        "print(id (stra))\n",
        "print(id (strb))\n",
        "\n",
        "\n",
        "l1=[1,2,4]\n",
        "l2=[1,2,4]\n",
        "(l1 is l2)\n",
        "print (l1 is l2)\n",
        "(l1 == l2)\n",
        "print (l1 == l2)"
      ],
      "execution_count": null,
      "outputs": [
        {
          "output_type": "stream",
          "text": [
            "True\n",
            "True\n",
            "139644172962760\n",
            "139644172962760\n",
            "False\n",
            "True\n"
          ],
          "name": "stdout"
        }
      ]
    },
    {
      "cell_type": "markdown",
      "metadata": {
        "id": "TCSCqABy7Hmy"
      },
      "source": [
        "#Multitarefa"
      ]
    },
    {
      "cell_type": "code",
      "metadata": {
        "colab": {
          "base_uri": "https://localhost:8080/"
        },
        "id": "b3Gw_1nE7GhO",
        "outputId": "707aa095-d91a-4e07-f805-36c2b9b47f86"
      },
      "source": [
        "#https://youtu.be/3dEPY3HiPtI\n",
        "# ****************************************************\n",
        "# Python threading tutorial\n",
        "# ****************************************************\n",
        "\n",
        "# thread =  a flow of execution. Like a separate order of instructions.\n",
        "#                  However each thread takes a turn running to achieve concurrency\n",
        "#                  GIL = (global interpreter lock),\n",
        "#                  allows only one thread to hold the control of the Python interpreter at any one time\n",
        "\n",
        "# cpu bound = program/task spends most of it's time waiting for internal events (CPU intensive)\n",
        "#             use multiprocessing\n",
        "\n",
        "# io bound = program/task spends most of it's time waiting for external events (user input, web scraping)\n",
        "#            use multithreading\n",
        "\n",
        "\n",
        "import threading\n",
        "\n",
        "import time\n",
        "\n",
        "def eat_breakfast():\n",
        "    time.sleep(3)\n",
        "    print(\"You eat breakfast\")\n",
        "\n",
        "def drink_coffee():\n",
        "    time.sleep(4)\n",
        "    print(\"You drank coffee\")\n",
        "\n",
        "def study():\n",
        "    time.sleep(5)\n",
        "    print(\"You finish studying\")\n",
        "\n",
        "\n",
        "x = threading.Thread(target=eat_breakfast, args=())\n",
        "x.start()\n",
        "\n",
        "y = threading.Thread(target=drink_coffee, args=())\n",
        "y.start()\n",
        "\n",
        "z = threading.Thread(target=study, args=())\n",
        "z.start()\n",
        "\n",
        "#fazer as tarefas ao mesmo tempo\n",
        "\n",
        "\n",
        "#join faz apenas a tarefa seguinte depois de fazer a anterior\n",
        "#x.join()\n",
        "#y.join()\n",
        "#z.join()\n",
        "\n",
        "print(threading.active_count())\n",
        "\n",
        "print(threading.enumerate())\n",
        "\n",
        "print(time.perf_counter())\n",
        "\n",
        "\n",
        "\n",
        "# ****************************************************"
      ],
      "execution_count": null,
      "outputs": [
        {
          "output_type": "stream",
          "text": [
            "12\n",
            "[<_MainThread(MainThread, started 139704658270080)>, <Thread(Thread-2, started daemon 139704148190976)>, <Heartbeat(Thread-3, started daemon 139704139798272)>, <ParentPollerUnix(Thread-1, started daemon 139704074663680)>, <WriterThread(pydevd.Writer, started daemon 139704051332864)>, <ReaderThread(pydevd.Reader, started daemon 139704042940160)>, <PyDBCommandThread(pydevd.CommandThread, started daemon 139704034285312)>, <CheckAliveThread(pydevd.CheckAliveThread, started 139704017499904)>, <_TimeoutThread(Thread-9, started daemon 139704025892608)>, <Thread(Thread-23, started 139704059725568)>, <Thread(Thread-24, started 139704006989568)>, <Thread(Thread-25, started 139703998596864)>]\n",
            "916.185178663\n"
          ],
          "name": "stdout"
        }
      ]
    },
    {
      "cell_type": "markdown",
      "metadata": {
        "id": "tbBX_xnKm20M"
      },
      "source": [
        "## Ficheiros\n",
        "\n",
        "*   r - leitura\n",
        "*   w - escrita\n",
        "*   a - adicionar mas não apaga o anterior\n",
        "*   r+ - escrita e leitura\n",
        "\n",
        "### Leitura\n",
        "\n",
        "\n",
        "\n"
      ]
    },
    {
      "cell_type": "code",
      "metadata": {
        "colab": {
          "base_uri": "https://localhost:8080/"
        },
        "id": "M1TmUa5hm02a",
        "outputId": "27d9bddc-3960-4cc3-b42d-2cfd20e04fd3"
      },
      "source": [
        "'''\n",
        "os ficheiros devem estar na mesma pasta\n",
        "para testar online use o seguinte editor:\n",
        "https://www.onlinegdb.com/edit/\n",
        "\n",
        "1. Crie um novo projeto\n",
        "2. Crie o ficheiro f.txt e coloque dados lá dentro desta forma:\n",
        "1 Pedro\n",
        "2 João\n",
        "3 Jacinto\n",
        "\n",
        "3. Depois crie o ficheiro main.py com este código :)\n",
        "ou crie primeiro em pyhton ficheiro de acordo com seguinte: \n",
        "'''\n",
        "f = open(\"f.txt\",\"w\") #cria o ficheiro f.txt que não existe\n",
        "f.write(\"\\n1 Pedro\") #escreve linha 1\n",
        "f.write(\"\\n2 João\") #adiciona uma nova linha \n",
        "f.write(\"\\n3 Jacinto\")\n",
        "\n",
        "f = open(\"f.txt\",\"r\") #caso não exista dá erro, usar código para evitar erro\n",
        "\n",
        "#verificar se o ficheiro consegue ser lido\n",
        "\n",
        "if f.readable() == True:\n",
        "#  print(f.read()) #lê todo o ficheiro\n",
        "#  print(f.readline()) #lê apenas uma linha a começar da 1ª\n",
        "#  print(f.readlines()) #coloca o fichero numa lista\n",
        "  \n",
        "  for lista in f.readlines(): # com este comando permite-nos saber onde termina o ficheiro\n",
        "      print(lista)\n",
        "      print(lista[2:]) #lê apenas o nome\n",
        "  \n",
        "else:\n",
        "  print(\"o ficheiro não pode ser lido\")\n",
        "\n",
        "f.close() #o ficheiro deve ser fechado"
      ],
      "execution_count": null,
      "outputs": [
        {
          "output_type": "stream",
          "text": [
            "\n",
            "\n",
            "\n",
            "1 Pedro\n",
            "\n",
            "Pedro\n",
            "\n",
            "2 João\n",
            "\n",
            "João\n",
            "\n",
            "3 Jacinto\n",
            "Jacinto\n"
          ],
          "name": "stdout"
        }
      ]
    },
    {
      "cell_type": "markdown",
      "metadata": {
        "id": "8DpLA9qMFB8U"
      },
      "source": [
        "###Escrita em ficheiros"
      ]
    },
    {
      "cell_type": "markdown",
      "metadata": {
        "id": "pt9MG2-HIjea"
      },
      "source": [
        "apending - juntar"
      ]
    },
    {
      "cell_type": "code",
      "metadata": {
        "colab": {
          "base_uri": "https://localhost:8080/"
        },
        "id": "P8G20_jAE-qy",
        "outputId": "a45f729e-24e9-4583-fb22-06164cfa5add"
      },
      "source": [
        "'''\n",
        "os ficheiros devem estar na mesma pasta\n",
        "para testar online use o seguinte editor:\n",
        "https://www.onlinegdb.com/edit/\n",
        "'''\n",
        "f = open(\"f.txt\",\"a\") #caso não exista dá erro, usar código para evitar erro\n",
        "\n",
        "f.write(\"\\n5 Francisco\") #adiciona ao ficheiro\n",
        "\n",
        "f.close() #o ficheiro deve ser fechado\n",
        "\n",
        "f = open(\"f.txt\",\"r\") #caso não exista dá erro, usar código para evitar erro\n",
        "print(f.read()) #lê todo o ficheiro\n",
        "f.close() #o ficheiro deve ser fechado"
      ],
      "execution_count": null,
      "outputs": [
        {
          "output_type": "stream",
          "text": [
            "\n",
            "1 João\n",
            "2 Pedro\n",
            "5 Francisco\n",
            "5 Francisco\n",
            "5 Francisco\n"
          ],
          "name": "stdout"
        }
      ]
    },
    {
      "cell_type": "markdown",
      "metadata": {
        "id": "vDTzH0W3Iqqw"
      },
      "source": [
        "Sobreescrita, criação e apagar ficheiros"
      ]
    },
    {
      "cell_type": "code",
      "metadata": {
        "id": "KmohMIYNI0tQ"
      },
      "source": [
        "import os\n",
        "\n",
        "'''\n",
        "os ficheiros devem estar na mesma pasta\n",
        "para testar online use o seguinte editor:\n",
        "https://www.onlinegdb.com/edit/\n",
        "'''\n",
        "f1 = open(\"f1.txt\",\"w\") #cria o ficheiro f1.txt que não existe\n",
        "\n",
        "f1.write(\"\\n1 Francisco\") #adiciona ao ficheiro\n",
        "\n",
        "f1.close() #o ficheiro deve ser fechado\n",
        "\n",
        "\n",
        "f1 = open(\"f.txt\",\"w\") #sobreescreve o conteudo\n",
        "\n",
        "f1.write(\"\\n1 João\") #adiciona ao ficheiro\n",
        "f1.write(\"\\n2 Pedro\") #adiciona ao ficheiro\n",
        "\n",
        "f1.close() #o ficheiro deve ser fechado\n",
        "f2.close() #o ficheiro deve ser fechado\n",
        "\n",
        "os.remove(\"f1.txt\") "
      ],
      "execution_count": null,
      "outputs": []
    },
    {
      "cell_type": "markdown",
      "metadata": {
        "id": "Nc5yw2EvVjHZ"
      },
      "source": [
        "##Módulos & PIP"
      ]
    },
    {
      "cell_type": "markdown",
      "metadata": {
        "id": "QPQstyy13Kk4"
      },
      "source": [
        "###random"
      ]
    },
    {
      "cell_type": "code",
      "metadata": {
        "colab": {
          "base_uri": "https://localhost:8080/"
        },
        "id": "dycntMs93S_z",
        "outputId": "20129157-2ae1-430d-9c7a-76594a3d03c2"
      },
      "source": [
        "import random\n",
        "\n",
        "x = random.randint(1,6) #numero inteiro de 1 a 6\n",
        "y = random.random() #numero aleatório entre 0 a 1\n",
        "\n",
        "myList = ['rock','paper','scissors']\n",
        "z = random.choice(myList) #mostra um item aleatório da lista\n",
        "\n",
        "cards = [1,2,3,4,5,6,7,8,9,\"J\",\"Q\",\"K\",\"A\"] \n",
        "\n",
        "random.shuffle(cards) #mistura aleatoriamente a lista\n",
        "\n",
        "print(\"x=\",x )\n",
        "print(\"y=\",y )\n",
        "print(\"z=\",z )\n",
        "print(cards)"
      ],
      "execution_count": null,
      "outputs": [
        {
          "output_type": "stream",
          "text": [
            "x= 3\n",
            "y= 0.4569909991541832\n",
            "z= paper\n",
            "[7, 9, 3, 'A', 2, 4, 'K', 'J', 8, 'Q', 6, 1, 5]\n"
          ],
          "name": "stdout"
        }
      ]
    },
    {
      "cell_type": "code",
      "metadata": {
        "colab": {
          "base_uri": "https://localhost:8080/"
        },
        "id": "OIzro9VOzvsK",
        "outputId": "adc71569-f380-4fb6-9400-851846a488c8"
      },
      "source": [
        "#criar ficheiro de módulo\n",
        "\n",
        "f1 = open(\"modulo.py\",\"w\") #cria o ficheiro\n",
        "\n",
        "texto = [\n",
        "     \"import random\",\n",
        "     \"feet_in_mile = 5280\" \n",
        "     \"meters_in_km = 1000\",\n",
        "     \"beatles = [''Jonh Lennon'',''Paul McCartney'',''George Harrison'',''Ringo Star'']\", \n",
        "     \"def get(filename):\",\n",
        "     \"\\treturn filename[filename.index(''.'')+1:] \",\n",
        "     \"def roll_dice(num):\",\n",
        "     \"\\treturn random.randint(1,num)\"\n",
        "     ]\n",
        "\n",
        "for row_text in texto:\n",
        "  f1.write(row_text)\n",
        "  print(row_text) \n",
        "\n"
      ],
      "execution_count": null,
      "outputs": [
        {
          "output_type": "stream",
          "text": [
            "import random\n",
            "feet_in_mile = 5280meters_in_km = 1000\n",
            "beatles = [''Jonh Lennon'',''Paul McCartney'',''George Harrison'',''Ringo Star'']\n",
            "def get(filename):\n",
            "\treturn filename[filename.index(''.'')+1:] \n",
            "def roll_dice(num):\n",
            "\treturn random.randint(1,num)\n"
          ],
          "name": "stdout"
        }
      ]
    },
    {
      "cell_type": "markdown",
      "metadata": {
        "id": "9QfN2bvKVtS4"
      },
      "source": [
        "Ler ficheiro"
      ]
    },
    {
      "cell_type": "code",
      "metadata": {
        "colab": {
          "base_uri": "https://localhost:8080/"
        },
        "id": "BkYSj7s9zWr9",
        "outputId": "413b35ac-8d34-4139-8e60-b77502f53b16"
      },
      "source": [
        "f1 = open(\"modulo.py\",\"r\") #lê o ficheiro\n",
        "print(f1.read()) #lê todo o ficheiro"
      ],
      "execution_count": null,
      "outputs": [
        {
          "output_type": "stream",
          "text": [
            "import timemeters_in_km = 1000beatles = [''Jonh Lennon'',''Paul McCartney'',''George Harrison'',''Ringo Star'']def get(filename):\treturn filename[filename.index(''.'')+1:] def roll_dice(num):\treturn random.randint(1,num)1,num)\n"
          ],
          "name": "stdout"
        }
      ]
    },
    {
      "cell_type": "markdown",
      "metadata": {
        "id": "n-23-YY--jfr"
      },
      "source": [
        "Usar o ficheiro de Módulo criado (.py)"
      ]
    },
    {
      "cell_type": "code",
      "metadata": {
        "id": "ngWbkx9y-uGF"
      },
      "source": [
        "'''\n",
        "os ficheiros devem estar na mesma pasta\n",
        "para testar online use o seguinte editor:\n",
        "https://www.onlinegdb.com/edit/\n",
        "\n",
        "https://docs.python.org - módulos para python via pip\n",
        "pip3 install nome_modulo\n",
        "'''\n",
        "\n",
        "import modulo\n",
        "\n",
        "#vai buscar a funcao roll_dice ao ficheiro modulo.py e executa-a\n",
        "print(modulo.roll_dice(6)) #gera um numero aleatorio entre 1 e 6\n"
      ],
      "execution_count": null,
      "outputs": []
    },
    {
      "cell_type": "markdown",
      "metadata": {
        "id": "8uHsyV53iTSN"
      },
      "source": [
        "#Jogos\n",
        "\n",
        "Jogo de Tesouras"
      ]
    },
    {
      "cell_type": "code",
      "metadata": {
        "colab": {
          "base_uri": "https://localhost:8080/"
        },
        "id": "jCyu-hcAiR8j",
        "outputId": "b23b1c3c-af8d-40ed-adf6-7e0f45e23b62"
      },
      "source": [
        "#https://www.youtube.com/watch?v=GhPZHvhvlsk&list=PLZPZq0r_RZOOkUQbat8LyQii36cJf2SWT&index=37\n",
        "\n",
        "import random\n",
        "\n",
        "while True:\n",
        "\n",
        "    choices = [\"rock\",\"paper\",\"scissors\"]\n",
        "    computer = random.choice(choices)\n",
        "    player = None\n",
        "\n",
        "    while player not in choices:\n",
        "        player = input(\"rock, paper, or scissors?: \").lower()\n",
        "\n",
        "    if player == computer:\n",
        "        print(\"computer: \",computer)\n",
        "        print(\"player: \",player)\n",
        "        print(\"Tie!\")\n",
        "\n",
        "    elif player == \"rock\":\n",
        "\n",
        "        if computer == \"paper\":\n",
        "\n",
        "            print(\"computer: \", computer)\n",
        "            print(\"player: \", player)\n",
        "            print(\"You lose!\")\n",
        "\n",
        "        if computer == \"scissors\":\n",
        "\n",
        "            print(\"computer: \", computer)\n",
        "            print(\"player: \", player)\n",
        "            print(\"You win!\")\n",
        "\n",
        "    elif player == \"scissors\":\n",
        "\n",
        "        if computer == \"rock\":\n",
        "\n",
        "            print(\"computer: \", computer)\n",
        "            print(\"player: \", player)\n",
        "            print(\"You lose!\")\n",
        "\n",
        "        if computer == \"paper\":\n",
        "\n",
        "            print(\"computer: \", computer)\n",
        "            print(\"player: \", player)\n",
        "            print(\"You win!\")\n",
        "\n",
        "    elif player == \"paper\":\n",
        "\n",
        "        if computer == \"scissors\":\n",
        "\n",
        "            print(\"computer: \", computer)\n",
        "            print(\"player: \", player)\n",
        "            print(\"You lose!\")\n",
        "\n",
        "        if computer == \"rock\":\n",
        "\n",
        "            print(\"computer: \", computer)\n",
        "            print(\"player: \", player)\n",
        "            print(\"You win!\")\n",
        "\n",
        "\n",
        "    play_again = input(\"Play again? (yes/no): \").lower()\n",
        "\n",
        "    if play_again != \"yes\":\n",
        "        break\n",
        "\n",
        "\n",
        "print(\"Bye!\")"
      ],
      "execution_count": null,
      "outputs": [
        {
          "output_type": "stream",
          "text": [
            "rock, paper, or scissors?: scissors\n",
            "computer:  paper\n",
            "player:  scissors\n",
            "You win!\n",
            "Play again? (yes/no): n\n",
            "Bye!\n"
          ],
          "name": "stdout"
        }
      ]
    },
    {
      "cell_type": "markdown",
      "metadata": {
        "id": "-AwOJCsEIQ5Q"
      },
      "source": [
        "##Escolha múltipla"
      ]
    },
    {
      "cell_type": "code",
      "metadata": {
        "colab": {
          "base_uri": "https://localhost:8080/"
        },
        "id": "24H4H_lUlRWa",
        "outputId": "5548e850-353f-46c1-beba-675831cd1a97"
      },
      "source": [
        "#https://www.youtube.com/playlist?list=PLZPZq0r_RZOOkUQbat8LyQii36cJf2SWT\n",
        "#com código\n",
        "# -------------------------\n",
        "def new_game():\n",
        "\n",
        "    guesses = []\n",
        "    correct_guesses = 0\n",
        "    question_num = 1\n",
        "\n",
        "    for key in questions:\n",
        "        print(\"-------------------------\")\n",
        "        print(key)\n",
        "        for i in options[question_num-1]:\n",
        "            print(i)\n",
        "        guess = input(\"Enter (A, B, C, or D): \")\n",
        "        guess = guess.upper()\n",
        "        guesses.append(guess)\n",
        "\n",
        "        correct_guesses += check_answer(questions.get(key), guess)\n",
        "        question_num += 1\n",
        "\n",
        "    display_score(correct_guesses, guesses)\n",
        "\n",
        "# -------------------------\n",
        "def check_answer(answer, guess):\n",
        "\n",
        "    if answer == guess:\n",
        "        print(\"CORRECT!\")\n",
        "        return 1\n",
        "    else:\n",
        "        print(\"WRONG!\")\n",
        "        return 0\n",
        "\n",
        "# -------------------------\n",
        "def display_score(correct_guesses, guesses):\n",
        "    print(\"-------------------------\")\n",
        "    print(\"RESULTS\")\n",
        "    print(\"-------------------------\")\n",
        "\n",
        "    print(\"Answers: \", end=\"\")\n",
        "    for i in questions:\n",
        "        print(questions.get(i), end=\" \")\n",
        "    print()\n",
        "\n",
        "    print(\"Guesses: \", end=\"\")\n",
        "    for i in guesses:\n",
        "        print(i, end=\" \")\n",
        "    print()\n",
        "\n",
        "    score = int((correct_guesses/len(questions))*100)\n",
        "    print(\"Your score is: \"+str(score)+\"%\")\n",
        "\n",
        "# -------------------------\n",
        "def play_again():\n",
        "\n",
        "    response = input(\"Do you want to play again? (yes or no): \")\n",
        "    response = response.upper()\n",
        "\n",
        "    if response == \"YES\":\n",
        "        return True\n",
        "    else:\n",
        "        return False\n",
        "# -------------------------\n",
        "\n",
        "\n",
        "questions = {\n",
        " \"Who created Python?: \": \"A\",\n",
        " \"What year was Python created?: \": \"B\",\n",
        " \"Python is tributed to which comedy group?: \": \"C\",\n",
        " \"Is the Earth round?: \": \"A\"\n",
        "}\n",
        "\n",
        "options = [[\"A. Guido van Rossum\", \"B. Elon Musk\", \"C. Bill Gates\", \"D. Mark Zuckerburg\"],\n",
        "          [\"A. 1989\", \"B. 1991\", \"C. 2000\", \"D. 2016\"],\n",
        "          [\"A. Lonely Island\", \"B. Smosh\", \"C. Monty Python\", \"D. SNL\"],\n",
        "          [\"A. True\",\"B. False\", \"C. sometimes\", \"D. What's Earth?\"]]\n",
        "\n",
        "new_game()\n",
        "\n",
        "while play_again():\n",
        "    new_game()\n",
        "\n",
        "print(\"Byeeeeee!\")\n",
        "\n",
        "# -------------------------"
      ],
      "execution_count": null,
      "outputs": [
        {
          "output_type": "stream",
          "text": [
            "-------------------------\n",
            "Who created Python?: \n",
            "A. Guido van Rossum\n",
            "B. Elon Musk\n",
            "C. Bill Gates\n",
            "D. Mark Zuckerburg\n",
            "Enter (A, B, C, or D): a\n",
            "CORRECT!\n",
            "-------------------------\n",
            "What year was Python created?: \n",
            "A. 1989\n",
            "B. 1991\n",
            "C. 2000\n",
            "D. 2016\n",
            "Enter (A, B, C, or D): b\n",
            "CORRECT!\n",
            "-------------------------\n",
            "Python is tributed to which comedy group?: \n",
            "A. Lonely Island\n",
            "B. Smosh\n",
            "C. Monty Python\n",
            "D. SNL\n",
            "Enter (A, B, C, or D): c\n",
            "CORRECT!\n",
            "-------------------------\n",
            "Is the Earth round?: \n",
            "A. True\n",
            "B. False\n",
            "C. sometimes\n",
            "D. What's Earth?\n",
            "Enter (A, B, C, or D): a\n",
            "CORRECT!\n",
            "-------------------------\n",
            "RESULTS\n",
            "-------------------------\n",
            "Answers: A B C A \n",
            "Guesses: A B C A \n",
            "Your score is: 100%\n",
            "Do you want to play again? (yes or no): n\n",
            "Byeeeeee!\n"
          ],
          "name": "stdout"
        }
      ]
    },
    {
      "cell_type": "markdown",
      "metadata": {
        "id": "g-OMAkgqr8Av"
      },
      "source": [
        "#Interfaces Gráficas\n",
        "nota: para executar estes programas necessita de usar um computador local\n",
        "\n",
        "##Interface Gráfica  - TK Tkinter"
      ]
    },
    {
      "cell_type": "markdown",
      "metadata": {
        "id": "idIbPJ1HF_Qr"
      },
      "source": [
        "Label numa Janela"
      ]
    },
    {
      "cell_type": "code",
      "metadata": {
        "colab": {
          "base_uri": "https://localhost:8080/",
          "height": 17
        },
        "id": "cvUMszsDroCF",
        "outputId": "2efb6829-99bf-4d54-c7ab-616b307fcee1"
      },
      "source": [
        "#https://www.youtube.com/watch?v=lyoyTlltFVU&list=PLZPZq0r_RZOOkUQbat8LyQii36cJf2SWT&index=67\n",
        " \n",
        "\n",
        "from tkinter import *\n",
        "\n",
        "#configurar a janela\n",
        "\n",
        "window = Tk() #instantiate an instance of a window\n",
        "window.geometry(\"420x420\")\n",
        "window.title(\"Texto da Janela\")\n",
        "\n",
        "icon = PhotoImage(file='icon.png')\n",
        "window.iconphoto(True,icon)\n",
        "window.config(background=\"#5cfcff\")\n",
        "\n",
        "#configurar labels\n",
        "photo = PhotoImage(file='logo.png')\n",
        "\n",
        "label = Label(window,\n",
        "\n",
        "              text=\"Texto da Label\",\n",
        "              font=('Arial',40,'bold'),\n",
        "              fg='#00FF00', # cor da letra (verde claro brilhante em hexadecimal)\n",
        "              bg='black', #cor de backgroud preta\n",
        "              relief=RAISED, #bordas?\n",
        "              bd=10, #border\n",
        "              padx=20, #cria distância em relação à margem\n",
        "              pady=20,\n",
        "              image=photo,\n",
        "              compound='bottom') #indica onde colocar a imagem em relação ao texto\n",
        "\n",
        "label.pack() #coloca a label no 1º local que aparece\n",
        "\n",
        "#label.place(x=0,y=0) #coloca a label no local dado por x e y\n",
        "\n",
        "\n",
        "# button = you click it, then it does stuff\n",
        "\n",
        "count = 0\n",
        "\n",
        "def click():\n",
        "    global count\n",
        "    count+=1\n",
        "    print(count)\n",
        "\n",
        "\n",
        "photo1 = PhotoImage(file='logo.png')\n",
        "\n",
        "button = Button(window,\n",
        "                text=\"Click me!\",\n",
        "                command=click,\n",
        "                font=(\"Comic Sans\",30),\n",
        "                fg=\"#00FF00\",\n",
        "                bg=\"black\",\n",
        "                activeforeground=\"#00FF00\",\n",
        "                activebackground=\"black\",\n",
        "                state=ACTIVE,\n",
        "                image=photo,\n",
        "                compound='bottom')\n",
        "button.pack()\n",
        "\n",
        "\n",
        "\n",
        "\n",
        "window.mainloop() #place window on computer screen, listen for events"
      ],
      "execution_count": null,
      "outputs": [
        {
          "output_type": "error",
          "ename": "TclError",
          "evalue": "ignored",
          "traceback": [
            "\u001b[0;31m---------------------------------------------------------------------------\u001b[0m",
            "\u001b[0;31mTclError\u001b[0m                                  Traceback (most recent call last)",
            "\u001b[0;32m<ipython-input-2-8110c22a4d94>\u001b[0m in \u001b[0;36m<module>\u001b[0;34m()\u001b[0m\n\u001b[1;32m      6\u001b[0m \u001b[0;31m#configurar a janela\u001b[0m\u001b[0;34m\u001b[0m\u001b[0;34m\u001b[0m\u001b[0;34m\u001b[0m\u001b[0m\n\u001b[1;32m      7\u001b[0m \u001b[0;34m\u001b[0m\u001b[0m\n\u001b[0;32m----> 8\u001b[0;31m \u001b[0mwindow\u001b[0m \u001b[0;34m=\u001b[0m \u001b[0mTk\u001b[0m\u001b[0;34m(\u001b[0m\u001b[0;34m)\u001b[0m \u001b[0;31m#instantiate an instance of a window\u001b[0m\u001b[0;34m\u001b[0m\u001b[0;34m\u001b[0m\u001b[0m\n\u001b[0m\u001b[1;32m      9\u001b[0m \u001b[0mwindow\u001b[0m\u001b[0;34m.\u001b[0m\u001b[0mgeometry\u001b[0m\u001b[0;34m(\u001b[0m\u001b[0;34m\"420x420\"\u001b[0m\u001b[0;34m)\u001b[0m\u001b[0;34m\u001b[0m\u001b[0;34m\u001b[0m\u001b[0m\n\u001b[1;32m     10\u001b[0m \u001b[0mwindow\u001b[0m\u001b[0;34m.\u001b[0m\u001b[0mtitle\u001b[0m\u001b[0;34m(\u001b[0m\u001b[0;34m\"Bro Code first GUI program\"\u001b[0m\u001b[0;34m)\u001b[0m\u001b[0;34m\u001b[0m\u001b[0;34m\u001b[0m\u001b[0m\n",
            "\u001b[0;32m/usr/lib/python3.7/tkinter/__init__.py\u001b[0m in \u001b[0;36m__init__\u001b[0;34m(self, screenName, baseName, className, useTk, sync, use)\u001b[0m\n\u001b[1;32m   2021\u001b[0m                 \u001b[0mbaseName\u001b[0m \u001b[0;34m=\u001b[0m \u001b[0mbaseName\u001b[0m \u001b[0;34m+\u001b[0m \u001b[0mext\u001b[0m\u001b[0;34m\u001b[0m\u001b[0;34m\u001b[0m\u001b[0m\n\u001b[1;32m   2022\u001b[0m         \u001b[0minteractive\u001b[0m \u001b[0;34m=\u001b[0m \u001b[0;36m0\u001b[0m\u001b[0;34m\u001b[0m\u001b[0;34m\u001b[0m\u001b[0m\n\u001b[0;32m-> 2023\u001b[0;31m         \u001b[0mself\u001b[0m\u001b[0;34m.\u001b[0m\u001b[0mtk\u001b[0m \u001b[0;34m=\u001b[0m \u001b[0m_tkinter\u001b[0m\u001b[0;34m.\u001b[0m\u001b[0mcreate\u001b[0m\u001b[0;34m(\u001b[0m\u001b[0mscreenName\u001b[0m\u001b[0;34m,\u001b[0m \u001b[0mbaseName\u001b[0m\u001b[0;34m,\u001b[0m \u001b[0mclassName\u001b[0m\u001b[0;34m,\u001b[0m \u001b[0minteractive\u001b[0m\u001b[0;34m,\u001b[0m \u001b[0mwantobjects\u001b[0m\u001b[0;34m,\u001b[0m \u001b[0museTk\u001b[0m\u001b[0;34m,\u001b[0m \u001b[0msync\u001b[0m\u001b[0;34m,\u001b[0m \u001b[0muse\u001b[0m\u001b[0;34m)\u001b[0m\u001b[0;34m\u001b[0m\u001b[0;34m\u001b[0m\u001b[0m\n\u001b[0m\u001b[1;32m   2024\u001b[0m         \u001b[0;32mif\u001b[0m \u001b[0museTk\u001b[0m\u001b[0;34m:\u001b[0m\u001b[0;34m\u001b[0m\u001b[0;34m\u001b[0m\u001b[0m\n\u001b[1;32m   2025\u001b[0m             \u001b[0mself\u001b[0m\u001b[0;34m.\u001b[0m\u001b[0m_loadtk\u001b[0m\u001b[0;34m(\u001b[0m\u001b[0;34m)\u001b[0m\u001b[0;34m\u001b[0m\u001b[0;34m\u001b[0m\u001b[0m\n",
            "\u001b[0;31mTclError\u001b[0m: no display name and no $DISPLAY environment variable"
          ]
        }
      ]
    },
    {
      "cell_type": "markdown",
      "metadata": {
        "id": "01Jc4Qh1GOdg"
      },
      "source": [
        "Botões"
      ]
    },
    {
      "cell_type": "code",
      "metadata": {
        "colab": {
          "base_uri": "https://localhost:8080/",
          "height": 17
        },
        "id": "N1sImiMXGN1v",
        "outputId": "7fe4e1cc-2035-49a9-aac4-c10da70d4d7d"
      },
      "source": [
        "#https://youtu.be/lxN3kUh1kJI\n",
        "from tkinter import *\n",
        "\n",
        "#entry widget = textbox that accepts a single line of user input\n",
        "\n",
        "def submit():\n",
        "    username = entry.get()\n",
        "    print(\"Hello \"+username)\n",
        "    password = entry1.get()\n",
        "    print(\"Your password is \"+password)\n",
        "\n",
        "def delete():\n",
        "    entry.delete(0,END)\n",
        "    entry1.delete(0,END)\n",
        "\n",
        "def backspace():\n",
        "    entry.delete(len(entry.get())-1, END)\n",
        "    entry1.delete(len(entry1.get())-1, END)\n",
        "\n",
        "window = Tk()\n",
        "\n",
        "entry = Entry(window,\n",
        "              font=(\"Arial\",50),\n",
        "              fg=\"#00FF00\",\n",
        "              bg=\"black\")\n",
        "\n",
        "entry.grid(row=0,column=0)\n",
        "entry.insert(0,'user name')\n",
        "#entry.config(show=\"*\")\n",
        "#entry.config(state=DISABLED)\n",
        "\n",
        "#entry.pack(side=LEFT)\n",
        "\n",
        "entry1 = Entry(window,\n",
        "              font=(\"Arial\",50),\n",
        "              fg=\"#00FF00\",\n",
        "              bg=\"black\", \n",
        "               )\n",
        "\n",
        "entry1.grid(row=1,column=0)\n",
        "entry1.insert(0,'password')\n",
        "entry1.config(show=\"*\")\n",
        "#entry.config(state=DISABLED)\n",
        "\n",
        "#entry1.pack(side=LEFT)\n",
        "\n",
        "submit_button = Button(window,text=\"submit\",command=submit).grid(row=1,column=1,pady=4, columnspan=2)\n",
        "\n",
        "#submit_button.pack(side=RIGHT)\n",
        "\n",
        "delete_button = Button(window,text=\"delete\",command=delete).grid(row=0,column=1,sticky=EW,pady=4,padx=4)\n",
        "\n",
        "#delete_button.pack(side=RIGHT)\n",
        "\n",
        "backspace_button = Button(window,text=\"backspace\",command=backspace).grid(row=0,column=2,sticky=EW,pady=4,padx=4)\n",
        "\n",
        "#backspace_button.pack(side=RIGHT)\n",
        "\n",
        "window.mainloop()"
      ],
      "execution_count": null,
      "outputs": [
        {
          "output_type": "error",
          "ename": "TclError",
          "evalue": "ignored",
          "traceback": [
            "\u001b[0;31m---------------------------------------------------------------------------\u001b[0m",
            "\u001b[0;31mTclError\u001b[0m                                  Traceback (most recent call last)",
            "\u001b[0;32m<ipython-input-3-9c73e03cd83b>\u001b[0m in \u001b[0;36m<module>\u001b[0;34m()\u001b[0m\n\u001b[1;32m     18\u001b[0m     \u001b[0mentry1\u001b[0m\u001b[0;34m.\u001b[0m\u001b[0mdelete\u001b[0m\u001b[0;34m(\u001b[0m\u001b[0mlen\u001b[0m\u001b[0;34m(\u001b[0m\u001b[0mentry1\u001b[0m\u001b[0;34m.\u001b[0m\u001b[0mget\u001b[0m\u001b[0;34m(\u001b[0m\u001b[0;34m)\u001b[0m\u001b[0;34m)\u001b[0m\u001b[0;34m-\u001b[0m\u001b[0;36m1\u001b[0m\u001b[0;34m,\u001b[0m \u001b[0mEND\u001b[0m\u001b[0;34m)\u001b[0m\u001b[0;34m\u001b[0m\u001b[0;34m\u001b[0m\u001b[0m\n\u001b[1;32m     19\u001b[0m \u001b[0;34m\u001b[0m\u001b[0m\n\u001b[0;32m---> 20\u001b[0;31m \u001b[0mwindow\u001b[0m \u001b[0;34m=\u001b[0m \u001b[0mTk\u001b[0m\u001b[0;34m(\u001b[0m\u001b[0;34m)\u001b[0m\u001b[0;34m\u001b[0m\u001b[0;34m\u001b[0m\u001b[0m\n\u001b[0m\u001b[1;32m     21\u001b[0m \u001b[0;34m\u001b[0m\u001b[0m\n\u001b[1;32m     22\u001b[0m entry = Entry(window,\n",
            "\u001b[0;32m/usr/lib/python3.7/tkinter/__init__.py\u001b[0m in \u001b[0;36m__init__\u001b[0;34m(self, screenName, baseName, className, useTk, sync, use)\u001b[0m\n\u001b[1;32m   2021\u001b[0m                 \u001b[0mbaseName\u001b[0m \u001b[0;34m=\u001b[0m \u001b[0mbaseName\u001b[0m \u001b[0;34m+\u001b[0m \u001b[0mext\u001b[0m\u001b[0;34m\u001b[0m\u001b[0;34m\u001b[0m\u001b[0m\n\u001b[1;32m   2022\u001b[0m         \u001b[0minteractive\u001b[0m \u001b[0;34m=\u001b[0m \u001b[0;36m0\u001b[0m\u001b[0;34m\u001b[0m\u001b[0;34m\u001b[0m\u001b[0m\n\u001b[0;32m-> 2023\u001b[0;31m         \u001b[0mself\u001b[0m\u001b[0;34m.\u001b[0m\u001b[0mtk\u001b[0m \u001b[0;34m=\u001b[0m \u001b[0m_tkinter\u001b[0m\u001b[0;34m.\u001b[0m\u001b[0mcreate\u001b[0m\u001b[0;34m(\u001b[0m\u001b[0mscreenName\u001b[0m\u001b[0;34m,\u001b[0m \u001b[0mbaseName\u001b[0m\u001b[0;34m,\u001b[0m \u001b[0mclassName\u001b[0m\u001b[0;34m,\u001b[0m \u001b[0minteractive\u001b[0m\u001b[0;34m,\u001b[0m \u001b[0mwantobjects\u001b[0m\u001b[0;34m,\u001b[0m \u001b[0museTk\u001b[0m\u001b[0;34m,\u001b[0m \u001b[0msync\u001b[0m\u001b[0;34m,\u001b[0m \u001b[0muse\u001b[0m\u001b[0;34m)\u001b[0m\u001b[0;34m\u001b[0m\u001b[0;34m\u001b[0m\u001b[0m\n\u001b[0m\u001b[1;32m   2024\u001b[0m         \u001b[0;32mif\u001b[0m \u001b[0museTk\u001b[0m\u001b[0;34m:\u001b[0m\u001b[0;34m\u001b[0m\u001b[0;34m\u001b[0m\u001b[0m\n\u001b[1;32m   2025\u001b[0m             \u001b[0mself\u001b[0m\u001b[0;34m.\u001b[0m\u001b[0m_loadtk\u001b[0m\u001b[0;34m(\u001b[0m\u001b[0;34m)\u001b[0m\u001b[0;34m\u001b[0m\u001b[0;34m\u001b[0m\u001b[0m\n",
            "\u001b[0;31mTclError\u001b[0m: no display name and no $DISPLAY environment variable"
          ]
        }
      ]
    },
    {
      "cell_type": "markdown",
      "metadata": {
        "id": "hMg6BHCT9Mu7"
      },
      "source": [
        "check box"
      ]
    },
    {
      "cell_type": "code",
      "metadata": {
        "colab": {
          "base_uri": "https://localhost:8080/",
          "height": 17
        },
        "id": "1P9ye0h99QxR",
        "outputId": "861eec54-fba8-4a5a-b045-28dfac1fb92b"
      },
      "source": [
        "from tkinter import *\n",
        "\n",
        "def display():\n",
        "    #if(x.get()==1):\n",
        "    if (xget()):\n",
        "        print(\"You agree!\")\n",
        "    else:\n",
        "        print(\"You don't agree :(\")\n",
        "\n",
        "window = Tk()\n",
        "\n",
        "#x = IntVar()\n",
        "x = BooleanVar()\n",
        "\n",
        "python_photo = PhotoImage(file='Python.png')\n",
        "\n",
        "check_button = Checkbutton(window,\n",
        "                           text=\"I agree to something\",\n",
        "                           variable=x,\n",
        "                           onvalue=TRUE, #1 se usar int\n",
        "                           offvalue=FALSE, #o se usar int\n",
        "                           command=display,\n",
        "                           font=('Arial',20),\n",
        "                           fg='#00FF00',\n",
        "                           bg='black',\n",
        "                           activeforeground='#00FF00',\n",
        "                           activebackground='black',\n",
        "                           padx=25,\n",
        "                           pady=10,\n",
        "                           image=python_photo,\n",
        "                           compound='left')\n",
        "check_button.pack()\n",
        "\n",
        "\n",
        "window.mainloop()"
      ],
      "execution_count": null,
      "outputs": [
        {
          "output_type": "error",
          "ename": "TclError",
          "evalue": "ignored",
          "traceback": [
            "\u001b[0;31m---------------------------------------------------------------------------\u001b[0m",
            "\u001b[0;31mTclError\u001b[0m                                  Traceback (most recent call last)",
            "\u001b[0;32m<ipython-input-1-e770542169b6>\u001b[0m in \u001b[0;36m<module>\u001b[0;34m()\u001b[0m\n\u001b[1;32m      7\u001b[0m         \u001b[0mprint\u001b[0m\u001b[0;34m(\u001b[0m\u001b[0;34m\"You don't agree :(\"\u001b[0m\u001b[0;34m)\u001b[0m\u001b[0;34m\u001b[0m\u001b[0;34m\u001b[0m\u001b[0m\n\u001b[1;32m      8\u001b[0m \u001b[0;34m\u001b[0m\u001b[0m\n\u001b[0;32m----> 9\u001b[0;31m \u001b[0mwindow\u001b[0m \u001b[0;34m=\u001b[0m \u001b[0mTk\u001b[0m\u001b[0;34m(\u001b[0m\u001b[0;34m)\u001b[0m\u001b[0;34m\u001b[0m\u001b[0;34m\u001b[0m\u001b[0m\n\u001b[0m\u001b[1;32m     10\u001b[0m \u001b[0;34m\u001b[0m\u001b[0m\n\u001b[1;32m     11\u001b[0m \u001b[0mx\u001b[0m \u001b[0;34m=\u001b[0m \u001b[0mIntVar\u001b[0m\u001b[0;34m(\u001b[0m\u001b[0;34m)\u001b[0m\u001b[0;34m\u001b[0m\u001b[0;34m\u001b[0m\u001b[0m\n",
            "\u001b[0;32m/usr/lib/python3.7/tkinter/__init__.py\u001b[0m in \u001b[0;36m__init__\u001b[0;34m(self, screenName, baseName, className, useTk, sync, use)\u001b[0m\n\u001b[1;32m   2021\u001b[0m                 \u001b[0mbaseName\u001b[0m \u001b[0;34m=\u001b[0m \u001b[0mbaseName\u001b[0m \u001b[0;34m+\u001b[0m \u001b[0mext\u001b[0m\u001b[0;34m\u001b[0m\u001b[0;34m\u001b[0m\u001b[0m\n\u001b[1;32m   2022\u001b[0m         \u001b[0minteractive\u001b[0m \u001b[0;34m=\u001b[0m \u001b[0;36m0\u001b[0m\u001b[0;34m\u001b[0m\u001b[0;34m\u001b[0m\u001b[0m\n\u001b[0;32m-> 2023\u001b[0;31m         \u001b[0mself\u001b[0m\u001b[0;34m.\u001b[0m\u001b[0mtk\u001b[0m \u001b[0;34m=\u001b[0m \u001b[0m_tkinter\u001b[0m\u001b[0;34m.\u001b[0m\u001b[0mcreate\u001b[0m\u001b[0;34m(\u001b[0m\u001b[0mscreenName\u001b[0m\u001b[0;34m,\u001b[0m \u001b[0mbaseName\u001b[0m\u001b[0;34m,\u001b[0m \u001b[0mclassName\u001b[0m\u001b[0;34m,\u001b[0m \u001b[0minteractive\u001b[0m\u001b[0;34m,\u001b[0m \u001b[0mwantobjects\u001b[0m\u001b[0;34m,\u001b[0m \u001b[0museTk\u001b[0m\u001b[0;34m,\u001b[0m \u001b[0msync\u001b[0m\u001b[0;34m,\u001b[0m \u001b[0muse\u001b[0m\u001b[0;34m)\u001b[0m\u001b[0;34m\u001b[0m\u001b[0;34m\u001b[0m\u001b[0m\n\u001b[0m\u001b[1;32m   2024\u001b[0m         \u001b[0;32mif\u001b[0m \u001b[0museTk\u001b[0m\u001b[0;34m:\u001b[0m\u001b[0;34m\u001b[0m\u001b[0;34m\u001b[0m\u001b[0m\n\u001b[1;32m   2025\u001b[0m             \u001b[0mself\u001b[0m\u001b[0;34m.\u001b[0m\u001b[0m_loadtk\u001b[0m\u001b[0;34m(\u001b[0m\u001b[0;34m)\u001b[0m\u001b[0;34m\u001b[0m\u001b[0;34m\u001b[0m\u001b[0m\n",
            "\u001b[0;31mTclError\u001b[0m: no display name and no $DISPLAY environment variable"
          ]
        }
      ]
    },
    {
      "cell_type": "markdown",
      "metadata": {
        "id": "6l4emMxTSp0F"
      },
      "source": [
        "CheckBox"
      ]
    },
    {
      "cell_type": "code",
      "metadata": {
        "id": "iAm5xCJySuFW"
      },
      "source": [
        "# listbox = A listing of selectable text items within it's own container\n",
        "\n",
        "\n",
        "\n",
        "def submit():\n",
        "\n",
        "    food = []\n",
        "\n",
        "    for index in listbox.curselection():\n",
        "        food.insert(index,listbox.get(index))\n",
        "\n",
        "    print(\"You have ordered: \")\n",
        "\n",
        "    for index in food:\n",
        "        print(index)\n",
        "\n",
        "def add():\n",
        "\n",
        "    listbox.insert(listbox.size(),entryBox.get())\n",
        "    listbox.config(height=listbox.size())\n",
        "\n",
        "\n",
        "def delete():\n",
        "\n",
        "    for index in reversed(listbox.curselection()):\n",
        "        listbox.delete(index)\n",
        "\n",
        "    listbox.config(height=listbox.size())\n",
        "\n",
        "\n",
        "from tkinter import *\n",
        "\n",
        "window = Tk()\n",
        "\n",
        "listbox = Listbox(window,\n",
        "                  bg=\"#f7ffde\",\n",
        "                  font=(\"Constantia\",35),\n",
        "                  width=12,\n",
        "                  selectmode=MULTIPLE)\n",
        "\n",
        "listbox.pack()\n",
        "#elementos da listbox\n",
        "listbox.insert(1,\"pizza\")\n",
        "listbox.insert(2,\"pasta\")\n",
        "listbox.insert(3,\"garlic bread\")\n",
        "listbox.insert(4,\"soup\")\n",
        "listbox.insert(5,\"salad\")\n",
        "\n",
        "listbox.config(height=listbox.size())\n",
        "\n",
        "\n",
        "\n",
        "entryBox = Entry(window)\n",
        "entryBox.pack()\n",
        "\n",
        "frame = Frame(window)\n",
        "frame.pack()\n",
        "\n",
        "\n",
        "submitButton = Button(frame,text=\"submit\",command=submit)\n",
        "submitButton.pack(side=LEFT)\n",
        "\n",
        "addButton = Button(frame,text=\"add\",command=add)\n",
        "addButton.pack(side=LEFT)\n",
        "\n",
        "\n",
        "deleteButton = Button(frame,text=\"delete\",command=delete)\n",
        "deleteButton.pack(side=LEFT)\n",
        "\n",
        "\n",
        "\n",
        "window.mainloop()"
      ],
      "execution_count": null,
      "outputs": []
    },
    {
      "cell_type": "markdown",
      "metadata": {
        "id": "tWym6QopK4mS"
      },
      "source": [
        "Mover objecto em canvas com teclas"
      ]
    },
    {
      "cell_type": "code",
      "metadata": {
        "id": "CIKYxT6rLBid"
      },
      "source": [
        "#-------------move images on canvas-------------\n",
        "\n",
        "from tkinter import *\n",
        "\n",
        "def move_up(event):\n",
        "   canvas.move(myimage,0,-10)\n",
        "\n",
        "def move_down(event):\n",
        "   canvas.move(myimage,0,10)\n",
        "\n",
        "def move_left(event):\n",
        "   canvas.move(myimage,-10,0)\n",
        "\n",
        "def move_right(event):\n",
        "   canvas.move(myimage,10,0)\n",
        "\n",
        "\n",
        "\n",
        "window = Tk()\n",
        "\n",
        "\n",
        "#escolha das teclas e accoes\n",
        "window.bind(\"<w>\",move_up)\n",
        "window.bind(\"<s>\",move_down)\n",
        "window.bind(\"<a>\",move_left)\n",
        "window.bind(\"<d>\",move_right)\n",
        "window.bind(\"<Up>\",move_up)\n",
        "window.bind(\"<Down>\",move_down)\n",
        "window.bind(\"<Left>\",move_left)\n",
        "window.bind(\"<Right>\",move_right)\n",
        "\n",
        "\n",
        "\n",
        "canvas = Canvas(window,width=500,height=500)\n",
        "\n",
        "canvas.pack()\n",
        "\n",
        "photoimage = PhotoImage(file='racecar.png')\n",
        "\n",
        "myimage = canvas.create_image(0,0,image=photoimage,anchor=NW)\n",
        "\n",
        "\n",
        "window.mainloop()"
      ],
      "execution_count": null,
      "outputs": []
    },
    {
      "cell_type": "markdown",
      "metadata": {
        "id": "He8Q96V8vGhj"
      },
      "source": [
        "Relógio com tradução para PORTUGUÊS"
      ]
    },
    {
      "cell_type": "code",
      "metadata": {
        "id": "xkMK8dmVvFok"
      },
      "source": [
        "#Python clock digital program app tutorial for beginners\n",
        "\n",
        "#https://www.youtube.com/watch?v=l7IMBy4_nhA&list=PLZPZq0r_RZOOkUQbat8LyQii36cJf2SWT&index=92\n",
        "\n",
        "from tkinter import *\n",
        "from time import *\n",
        "\n",
        "def update():\n",
        "    #ver tabela de letras que correspodem ao formato do relógio\n",
        "    #https://www.programiz.com/python-programming/datetime/strftime\n",
        "    time_string = strftime(\"%H:%M:%S\")\n",
        "    time_label.config(text=time_string)\n",
        "\n",
        "    day_string = strftime(\"%A\")\n",
        "           \n",
        "    # podia-se usar if... mas isso perderia a graça\n",
        "    #if day_string == \"Tuesday\":\n",
        "    #    print (\"Terça-Feira\")\n",
        "    \n",
        "    week_day =   [\"Monday\", \"Tuesday\",\"Wednesday\",\"Thursday\",\"Friday\",\"Saturday\",\"Sunday\"]\n",
        "    dia_semana = [\"Segunda\", \"Terça\", \"Quarta\",   \"Quinta\",  \"Sexta\", \"Sábado\",  \"Domingo\"]\n",
        "    \n",
        "    week_day_len = len (week_day)\n",
        "    \n",
        "    for f in range (0,week_day_len):\n",
        "        if day_string == week_day[f]:\n",
        "            day_string = dia_semana[f]\n",
        "            day_label.config(text=day_string)\n",
        "    \n",
        "    \n",
        "        \n",
        "    #date_string = strftime(\"%d %B %Y\") dia mes ano\n",
        "    date_month = strftime(\"%B\")\n",
        "    months_eng =   [\"Jannuary\",\n",
        "                    \"February\",\n",
        "                    \"March\",\n",
        "                    \"April\",\n",
        "                    \"May\",\n",
        "                    \"June\",\n",
        "                    \"July\",\n",
        "                    \"August\",\n",
        "                    \"September\",\n",
        "                    \"October\",\n",
        "                    \"November\",\n",
        "                    \"Dezember\"]\n",
        "    meses_pt = [\"Janeiro\",\n",
        "                \"Fevereiro\",\n",
        "                \"Março\",\n",
        "                \"Abril\",\n",
        "                \"Maio\",\n",
        "                \"Junho\",\n",
        "                \"Julho\",\n",
        "                \"Agosto\",\n",
        "                \"Setembro\",\n",
        "                \"Outubro\",\n",
        "                \"Novembro\",\n",
        "                \"Dezembro\"]\n",
        "    \n",
        "    months_day_len = len (months_eng)\n",
        "    \n",
        "    for f in range (0,months_day_len):\n",
        "        if date_month == months_eng[f]:\n",
        "            date_month = meses_pt[f]\n",
        "            \n",
        "    date_string = strftime(\"%d \") + date_month + strftime(\" %Y\")\n",
        "    \n",
        "    date_label.config(text=date_string)\n",
        "\n",
        "    window.after(1000,update)\n",
        "\n",
        "\n",
        "window = Tk()\n",
        "\n",
        "window.geometry(\"450x230\")\n",
        "window.title(\"Relógio programado em Python em Português\")\n",
        "\n",
        "time_label = Label(window,font=(\"Arial\",50),fg=\"#00FF00\",bg=\"black\", bd=1,pady=10,padx=10)\n",
        "time_label.pack()\n",
        "\n",
        "day_label = Label(window,font=(\"Ink Free\",25,\"bold\"))\n",
        "day_label.pack()\n",
        "\n",
        "date_label = Label(window,font=(\"Ink Free\",30))\n",
        "date_label.pack()\n",
        "\n",
        "update()\n",
        "\n",
        "window.mainloop()"
      ],
      "execution_count": null,
      "outputs": []
    },
    {
      "cell_type": "code",
      "metadata": {
        "id": "WYPNii7JWUH2"
      },
      "source": [
        "import ipywidgets\n",
        "\n"
      ],
      "execution_count": null,
      "outputs": []
    },
    {
      "cell_type": "markdown",
      "metadata": {
        "id": "EI-63qBLxogr"
      },
      "source": [
        "\n",
        "#Apenas Micropython para ESP8266/ESP32"
      ]
    },
    {
      "cell_type": "markdown",
      "metadata": {
        "id": "MKPov2Wmx13U"
      },
      "source": [
        "Acender Led"
      ]
    },
    {
      "cell_type": "code",
      "metadata": {
        "id": "rtKJrIyTxxco"
      },
      "source": [
        "import time\n",
        "from machine import Pin\n",
        "led=Pin(2,Pin.OUT) #default blue led\n",
        " \n",
        "while True:\n",
        "led.value(1)\n",
        "time.sleep(0.5)\n",
        "led.value(0)\n",
        "time.sleep(0.5)"
      ],
      "execution_count": null,
      "outputs": []
    },
    {
      "cell_type": "markdown",
      "metadata": {
        "id": "Zfw9UMiTzEfq"
      },
      "source": [
        "PWM"
      ]
    },
    {
      "cell_type": "code",
      "metadata": {
        "id": "Phc3fNTRzCoY"
      },
      "source": [
        "from machine import PWM\n",
        "led_pwm = PWM(Pin(2))\n",
        "led.pwm(duty) #0 to 512\n",
        "led.pwm(freq) #o to 1000\n",
        "led.pwd.deinit() #restart to default conditions\n",
        "led.pwd=(PWM(Pin(2),freq=5,duty=128)) #define start condition"
      ],
      "execution_count": null,
      "outputs": []
    },
    {
      "cell_type": "markdown",
      "metadata": {
        "id": "Uxmic2Ui4Zhy"
      },
      "source": [
        "ADC - Analog Input (ex: LDR)"
      ]
    },
    {
      "cell_type": "code",
      "metadata": {
        "id": "00PnA0-74nj2"
      },
      "source": [
        "#https://randomnerdtutorials.com/esp32-adc-analog-read-arduino-ide/\n",
        "from machine import ADC\n",
        "sensor = ADC (Pin(32)) #0 to 4095\n",
        "print(sensor.read())"
      ],
      "execution_count": null,
      "outputs": []
    },
    {
      "cell_type": "markdown",
      "metadata": {
        "id": "NoOWXxZgwFvN"
      },
      "source": [
        "Your ESP32 is not able to distinguish 3.3 V from 3.2 V. You’ll get the same value for both voltages: 4095.\n",
        "\n",
        "The same happens for very low voltage values: for 0 V and 0.1 V you’ll get the same value: 0. You need to keep this in mind when using the ESP32 ADC pins."
      ]
    },
    {
      "cell_type": "markdown",
      "metadata": {
        "id": "6mWLAElEQU9h"
      },
      "source": [
        "Capacitive Touch"
      ]
    },
    {
      "cell_type": "code",
      "metadata": {
        "id": "83OnMa2rQav3"
      },
      "source": [
        "from machine import TouchPad, Pin\n",
        "\n",
        "t = TouchPad(Pin(14))\n",
        "t.read()              # Returns a smaller number when touched"
      ],
      "execution_count": null,
      "outputs": []
    },
    {
      "cell_type": "markdown",
      "metadata": {
        "id": "k7hr-ZM37CgJ"
      },
      "source": [
        "Hall Sensor"
      ]
    },
    {
      "cell_type": "code",
      "metadata": {
        "id": "yn6KKrbc6v2y"
      },
      "source": [
        "import esp32\n",
        "import time\n",
        " \n",
        "while True:\n",
        "    print(esp32.hall_sensor()) #-50 to 125 (example)\n",
        "    time.sleep(0.5)"
      ],
      "execution_count": null,
      "outputs": []
    },
    {
      "cell_type": "markdown",
      "metadata": {
        "id": "PQJsq4Gmwke6"
      },
      "source": [
        "Note: Use an average to get a better result. The values changes by distance and angle."
      ]
    },
    {
      "cell_type": "markdown",
      "metadata": {
        "id": "afjl9LUU9PEf"
      },
      "source": [
        "Temperatura interna"
      ]
    },
    {
      "cell_type": "code",
      "metadata": {
        "id": "1Sv-SJFv9Ubo"
      },
      "source": [
        "import esp32\n",
        "import time\n",
        " \n",
        "while True:\n",
        "    tcelsius=(esp32.raw_temperature()-32)/(1.8)\n",
        "    print(\"F= \",esp32.raw_temperature())\n",
        "    print(\"T= \",tcelsius) \n",
        "    time.sleep(0.5)"
      ],
      "execution_count": null,
      "outputs": []
    },
    {
      "cell_type": "markdown",
      "metadata": {
        "id": "GzrojeuTJmvN"
      },
      "source": [
        "Botões"
      ]
    },
    {
      "cell_type": "code",
      "metadata": {
        "id": "_DFlxK0fJrFv"
      },
      "source": [
        "#https://blog.miguelgrinberg.com/post/micropython-and-the-internet-of-things-part-iii-building-a-micropython-application\n",
        "import machine\n",
        "import time\n",
        "\n",
        "led = machine.Pin(2, machine.Pin.OUT)\n",
        "led2 = machine.Pin(16, machine.Pin.OUT)\n",
        "button = machine.Pin(14, machine.Pin.IN, machine.Pin.PULL_UP)\n",
        "while button.value():\n",
        "    led.on()\n",
        "    led2.off()\n",
        "    time.sleep(0.5)\n",
        "    led.off()\n",
        "    led2.on()\n",
        "    time.sleep(0.5)\n",
        "led.on()\n",
        "led2.on()"
      ],
      "execution_count": null,
      "outputs": []
    },
    {
      "cell_type": "markdown",
      "metadata": {
        "id": "VGN6CUrkO7LV"
      },
      "source": [
        "Sensor Temperatura DHT"
      ]
    },
    {
      "cell_type": "code",
      "metadata": {
        "id": "YiZWylQkOtRW"
      },
      "source": [
        "import dht\n",
        "import machine\n",
        "\n",
        "d = dht.DHT11(machine.Pin(4))\n",
        "d.measure()\n",
        "d.temperature() # eg. 23 (°C)\n",
        "d.humidity()    # eg. 41 (% RH)\n",
        "\n",
        "d = dht.DHT22(machine.Pin(5))\n",
        "d.measure()\n",
        "d.temperature() # eg. 23.6 (°C)\n",
        "d.humidity()    # eg. 41.3 (% RH)\n"
      ],
      "execution_count": null,
      "outputs": []
    },
    {
      "cell_type": "markdown",
      "metadata": {
        "id": "jfefWwm9O0fh"
      },
      "source": [
        "Ultrasonic\n"
      ]
    },
    {
      "cell_type": "code",
      "metadata": {
        "id": "5VuV7nXU5yiG"
      },
      "source": [
        "#https://www.youtube.com/redirect?v=lCbE8M-5VS4&redir_token=QUFFLUhqbkFoOFZ5UmJDeGp6eUVuUVgydDEzX3JjYzg0d3xBQ3Jtc0trOU5Uc3hwXzI3Vk1TOEFDM1U4UHVyZG91YmxUZUNwdXRaTGJXS0xQVGE2ektpdDhqV0dJcktRWkhXbFM4QWR6ZGtHbzZrbzlTbWkycmVnWVdMckR3QWwwWVNnbTAyU05fRnpFTFpNSU44eXZaUW9lOA%3D%3D&event=video_description&q=http%3A%2F%2Fwww.alselectro.com%2Ffiles%2Fmicropython_oled_dht_ultrasonic.zip\n",
        "#code and libraries"
      ],
      "execution_count": null,
      "outputs": []
    },
    {
      "cell_type": "markdown",
      "metadata": {
        "id": "rvpkpuo05t0h"
      },
      "source": [
        ""
      ]
    },
    {
      "cell_type": "markdown",
      "metadata": {
        "id": "TrdUapeysUKs"
      },
      "source": [
        "Timer"
      ]
    },
    {
      "cell_type": "code",
      "metadata": {
        "id": "30vT7B0esXpI"
      },
      "source": [
        "from machine import Pin, Timer\n",
        "led=Pin(2,Pin.OUT)\n",
        "flash=Timer(0)\n",
        "def flash_led(timer):\n",
        "    led.value( not led.value())\n",
        "\n",
        "flash_led(0) #change led status\n",
        "flash.init(period=1000,mode=Timer.PERIODIC,callback=flash_led) #start timer conditions\n",
        "flash.deinit() #shutdown timer"
      ],
      "execution_count": null,
      "outputs": []
    },
    {
      "cell_type": "markdown",
      "metadata": {
        "id": "UzZL-gOXu7mz"
      },
      "source": [
        "Interrupts"
      ]
    },
    {
      "cell_type": "code",
      "metadata": {
        "id": "1FM_YJcJu435"
      },
      "source": [
        "#https://www.youtube.com/watch?v=Mku1Bq78nXw\n",
        "\n",
        "from machine import Pin\n",
        "but1 = Pin(26, Pin.IN)\n",
        "but1.value()\n",
        "\n",
        "def button_press(pin):\n",
        "    print(pin)\n",
        "    \n",
        "but1.irq(trigger=Pin.IRQ_FALLING, handler=button_press)"
      ],
      "execution_count": null,
      "outputs": []
    },
    {
      "cell_type": "code",
      "metadata": {
        "id": "PrZhXfXR-wkV"
      },
      "source": [
        "# Video: Learn MicroPython #4 - Interrupts\n",
        "\n",
        "from machine import Pin\n",
        "\n",
        "led = Pin(2, Pin.OUT)\n",
        "btn = Pin(0, Pin.IN)\n",
        "\n",
        "def my_func(pin):\n",
        "    print(\"rising!\")\n",
        "\n",
        "# Interrupt Request\n",
        "btn.irq(my_func, Pin.IRQ_RISING)"
      ],
      "execution_count": null,
      "outputs": []
    },
    {
      "cell_type": "markdown",
      "metadata": {
        "id": "trRnMGGpEWPq"
      },
      "source": [
        "JSon"
      ]
    },
    {
      "cell_type": "code",
      "metadata": {
        "id": "HiwnEMm0EdId"
      },
      "source": [
        "do not work"
      ],
      "execution_count": null,
      "outputs": []
    },
    {
      "cell_type": "markdown",
      "metadata": {
        "id": "_h-fzeXQoZu_"
      },
      "source": [
        "Acess Point (Web Servidor without router)"
      ]
    },
    {
      "cell_type": "code",
      "metadata": {
        "id": "4GbdicT1oX0E"
      },
      "source": [
        "try:\n",
        "    import usocket as socket\n",
        "except:\n",
        "    import socket\n",
        "  \n",
        "import network\n",
        "import esp\n",
        "import uos\n",
        "\n",
        "uname = uos.uname()\n",
        "\n",
        "ap = network.WLAN(network.AP_IF)\n",
        "ap.active(True)\n",
        "\n",
        "ssid = \"ssid\"\n",
        "password = \"password\"\n",
        "#ap.wlan.connect(ssid='eduoram', auth=(WLAN.WPA2_ENT, 'email@estsetubal.ips.pt', 'password'), identity='email@estsetubal.ips.pt')\n",
        "ap.config(essid=ssid, password=password)\n",
        "\n",
        "while ap.active() == False:\n",
        "    pass\n",
        "\n",
        "print('Access Point Active')\n",
        "print(ap.ifconfig())\n",
        "print(\"Connect to \" + ssid + \":\" + \"password = \" + password);\n",
        "print(\"Visit: \" + ap.ifconfig()[2] + \":80\")\n",
        "\n",
        "print('===== ===== =====')\n",
        "\n",
        "res_01 = \"\"\"<html>\n",
        "    <head><meta name=\"viewport\" content=\"width=device-width, initial-scale=1\"></head>\n",
        "    <body>\n",
        "    <h1>Hello, MicroPython@ESP32!</h1>\"\"\"\n",
        "res_02= \"\"\"\n",
        "    </body>\n",
        "    </html>\"\"\"\n",
        "\n",
        "res_something = \"sysname: \" + uname.sysname + \"<br/>\"\\\n",
        "    \"nodename: \" + uname.nodename + \"<br/>\" +\\\n",
        "    \"release: \" + uname.release + \"<br/>\" +\\\n",
        "    \"version: \" + uname.version + \"<br/>\" +\\\n",
        "    \"machine: \" + uname.machine + \"<br/>\"\n",
        "\n",
        "s = socket.socket(socket.AF_INET, socket.SOCK_STREAM)\n",
        "s.bind(('', 80))\n",
        "s.listen(5)\n",
        "\n",
        "while True:\n",
        "    conn, addr = s.accept()\n",
        "    youraddr = str(addr)\n",
        "    request = conn.recv(1024)\n",
        "\n",
        "    conn.send(res_01)\n",
        "    conn.send(res_something)\n",
        "    conn.send(\"<br/><br/>\")\n",
        "    conn.send(youraddr)\n",
        "    conn.send(\"<br/><br/>\")\n",
        "    conn.send(request)\n",
        "    conn.send(res_02)\n",
        "    conn.close()"
      ],
      "execution_count": null,
      "outputs": []
    },
    {
      "cell_type": "code",
      "metadata": {
        "id": "euKztT4F3JQ5"
      },
      "source": [
        "# Complete project details at https://randomnerdtutorials.com/micropython-esp32-esp8266-access-point-ap/\n",
        "\n",
        "try:\n",
        "  import usocket as socket\n",
        "except:\n",
        "  import socket\n",
        "\n",
        "import network\n",
        "\n",
        "import esp\n",
        "esp.osdebug(None)\n",
        "\n",
        "import gc\n",
        "gc.collect()\n",
        "\n",
        "ssid = 'MicroPython-AP'\n",
        "password = '123456789'\n",
        "\n",
        "ap = network.WLAN(network.AP_IF)\n",
        "ap.active(True)\n",
        "ap.config(essid=ssid, password=password)\n",
        "\n",
        "while ap.active() == False:\n",
        "  pass\n",
        "\n",
        "print('Connection successful')\n",
        "print(ap.ifconfig())\n",
        "\n",
        "def web_page():\n",
        "  html = \"\"\"<html><head><meta name=\"viewport\" content=\"width=device-width, initial-scale=1\"></head>\n",
        "  <body><h1>Hello, World!</h1><p></p>Página gerada pelo ESP32</body></html>\"\"\"\n",
        "  return html\n",
        "\n",
        "s = socket.socket(socket.AF_INET, socket.SOCK_STREAM)\n",
        "s.bind(('', 80))\n",
        "s.listen(5)\n",
        "\n",
        "while True:\n",
        "  conn, addr = s.accept()\n",
        "  print('Got a connection from %s' % str(addr))\n",
        "  request = conn.recv(1024)\n",
        "  print('Content = %s' % str(request))\n",
        "  response = web_page()\n",
        "  conn.send(response)\n",
        "  conn.close()\n"
      ],
      "execution_count": null,
      "outputs": []
    },
    {
      "cell_type": "code",
      "metadata": {
        "id": "SlmPvF1WXuIw"
      },
      "source": [
        "#Funciona em main.py \n",
        "#Complete project details at https://randomnerdtutorials.com/micropython-esp32-esp8266-access-point-ap/\n",
        "\n",
        "try:\n",
        "  import usocket as socket\n",
        "except:\n",
        "  import socket\n",
        "\n",
        "from machine import Pin\n",
        "import network\n",
        "\n",
        "import esp\n",
        "esp.osdebug(None)\n",
        "\n",
        "import gc\n",
        "gc.collect()\n",
        "\n",
        "ssid = 'MicroPython-AP'\n",
        "password = '123456789'\n",
        "\n",
        "ap = network.WLAN(network.AP_IF)\n",
        "ap.active(True)\n",
        "ap.config(essid=ssid, password=password)\n",
        "\n",
        "while ap.active() == False:\n",
        "  pass\n",
        "\n",
        "print('Connection successful')\n",
        "print(ap.ifconfig())\n",
        "\n",
        "led = Pin(2, Pin.OUT)\n",
        "\n",
        "def web_page():\n",
        "  if led.value() == 1:\n",
        "    gpio_state=\"ON\"\n",
        "  else:\n",
        "    gpio_state=\"OFF\"\n",
        "  \n",
        "  html = \"\"\"<html><head> <title>ESP Web Server</title> <meta name=\"viewport\" content=\"width=device-width, initial-scale=1\">\n",
        "  <link rel=\"icon\" href=\"data:,\"> <style>html{font-family: Helvetica; display:inline-block; margin: 0px auto; text-align: center;}\n",
        "  h1{color: #0F3376; padding: 2vh;}p{font-size: 1.5rem;}.button{display: inline-block; background-color: #e7bd3b; border: none; \n",
        "  border-radius: 4px; color: white; padding: 16px 40px; text-decoration: none; font-size: 30px; margin: 2px; cursor: pointer;}\n",
        "  .button2{background-color: #4286f4;}</style></head><body> <h1>ESP Web Server</h1> \n",
        "  <p>GPIO state: <strong>\"\"\" + gpio_state + \"\"\"</strong></p><p><a href=\"/?led=on\"><button class=\"button\">ON</button></a></p>\n",
        "  <p><a href=\"/?led=off\"><button class=\"button button2\">OFF</button></a></p></body></html>\"\"\"\n",
        "  return html\n",
        "\n",
        "s = socket.socket(socket.AF_INET, socket.SOCK_STREAM)\n",
        "s.bind(('', 80))\n",
        "s.listen(5)\n",
        "\n",
        "while True:\n",
        "  conn, addr = s.accept()\n",
        "  print('Got a connection from %s' % str(addr))\n",
        "  request = conn.recv(1024)\n",
        "  request = str(request)\n",
        "  print('Content = %s' % request)\n",
        "  led_on = request.find('/?led=on')\n",
        "  led_off = request.find('/?led=off')\n",
        "  if led_on == 6:\n",
        "    print('LED ON')\n",
        "    led.value(1)\n",
        "  if led_off == 6:\n",
        "    print('LED OFF')\n",
        "    led.value(0)\n",
        "  response = web_page()\n",
        "  conn.send('HTTP/1.1 200 OK\\n')\n",
        "  conn.send('Content-Type: text/html\\n')\n",
        "  conn.send('Connection: close\\n\\n')\n",
        "  conn.sendall(response)\n",
        "  conn.close()\n"
      ],
      "execution_count": null,
      "outputs": []
    },
    {
      "cell_type": "markdown",
      "metadata": {
        "id": "LO5tyl4AprsJ"
      },
      "source": [
        "# Exemplos de Gráfico:"
      ]
    },
    {
      "cell_type": "markdown",
      "metadata": {
        "id": "oHF_LAfBB_2c"
      },
      "source": [
        "Matplotlib"
      ]
    },
    {
      "cell_type": "code",
      "metadata": {
        "id": "Zm2is7Mkm3IY",
        "colab": {
          "base_uri": "https://localhost:8080/",
          "height": 281
        },
        "outputId": "e88aac9f-c3cf-48fd-e83f-8d8e20e3c73f"
      },
      "source": [
        "from matplotlib import pyplot as plt\n",
        "\n",
        "x = [x for x in range(len(temperatura2))]\n",
        "plt.plot(x, temperatura2, '-')\n",
        "plt.title(\"Temperatura medida na Estufa\")\n",
        "plt.show()"
      ],
      "execution_count": null,
      "outputs": [
        {
          "output_type": "display_data",
          "data": {
            "image/png": "[encoded data removed]",
            "text/plain": [
              "<Figure size 432x288 with 1 Axes>"
            ]
          },
          "metadata": {
            "tags": [],
            "needs_background": "light"
          }
        }
      ]
    },
    {
      "cell_type": "code",
      "metadata": {
        "id": "13oJkvnavk6s",
        "colab": {
          "base_uri": "https://localhost:8080/",
          "height": 225
        },
        "outputId": "ff8ca071-4b25-4b00-e1a7-792fdead72c4"
      },
      "source": [
        "#https://realpython.com/python-matplotlib-guide/\n",
        "from matplotlib import pyplot as plt\n",
        "\n",
        "x = [x for x in range(len(temperatura))]\n",
        "\n",
        "fig, ax = plt.subplots(figsize=(5, 3))\n",
        "ax.stackplot(x, temperatura, labels=['ºC'])\n",
        "ax.set_title('Medida temperatura na estufa')\n",
        "ax.legend(loc='upper left')\n",
        "ax.set_ylabel('temperatura medida')\n",
        "ax.set_xlabel('nº de medidas')\n",
        "ax.set_ylim(0, 20)\n",
        "ax.set_xlim(0,len(temperatura))\n",
        "ax.grid(axis='both')\n",
        "fig.tight_layout()"
      ],
      "execution_count": null,
      "outputs": [
        {
          "output_type": "display_data",
          "data": {
            "image/png": "[encoded data removed]",
            "text/plain": [
              "<Figure size 360x216 with 1 Axes>"
            ]
          },
          "metadata": {
            "tags": [],
            "needs_background": "light"
          }
        }
      ]
    },
    {
      "cell_type": "markdown",
      "metadata": {
        "id": "csinUnqMCI8E"
      },
      "source": [
        "Pandas"
      ]
    },
    {
      "cell_type": "code",
      "metadata": {
        "colab": {
          "base_uri": "https://localhost:8080/",
          "height": 312
        },
        "id": "GWEVpXzbK-Gh",
        "outputId": "32d5885d-dbe1-431e-c058-32db7e86bfb8"
      },
      "source": [
        "#https://www.youtube.com/watch?v=P4F3PzCMrtk\n",
        "import pandas as pd\n",
        "\n",
        "y = {'f(x)': [2,10,6,8], 'g(x)': [4,2,-2,6]}\n",
        "x = [1,2,3,4]\n",
        "\n",
        "graph = pd.DataFrame(y,x)\n",
        "graph.plot(kind='line', grid=True, title=\"my graph\", ylabel=\"my y title\", xlabel=\"my x title\", xlim = (1,4))"
      ],
      "execution_count": null,
      "outputs": [
        {
          "output_type": "execute_result",
          "data": {
            "text/plain": [
              "<matplotlib.axes._subplots.AxesSubplot at 0x7f994d673390>"
            ]
          },
          "metadata": {
            "tags": []
          },
          "execution_count": 2
        },
        {
          "output_type": "display_data",
          "data": {
            "image/png": "[encoded data removed]",
            "text/plain": [
              "<Figure size 432x288 with 1 Axes>"
            ]
          },
          "metadata": {
            "tags": [],
            "needs_background": "light"
          }
        }
      ]
    },
    {
      "cell_type": "markdown",
      "metadata": {
        "id": "RTo-6TFrzPW3"
      },
      "source": [
        "#Outros Exemplos:"
      ]
    },
    {
      "cell_type": "code",
      "metadata": {
        "id": "sZEZfpkma2V1",
        "colab": {
          "base_uri": "https://localhost:8080/"
        },
        "outputId": "36bce8b7-3755-4cf6-82e3-dc46d2a63ddb"
      },
      "source": [
        "\n",
        "import math\n",
        "\n",
        "class Circle:\n",
        "    def __init__(self, radius):\n",
        "        self.radius = radius\n",
        "\n",
        "    @property\n",
        "    def area(self):\n",
        "        return self.radius ** 2 * math.pi\n",
        "\n",
        "c = Circle(2)\n",
        "print(c.area)\n"
      ],
      "execution_count": null,
      "outputs": [
        {
          "output_type": "stream",
          "text": [
            "12.566370614359172\n"
          ],
          "name": "stdout"
        }
      ]
    }
  ]
}