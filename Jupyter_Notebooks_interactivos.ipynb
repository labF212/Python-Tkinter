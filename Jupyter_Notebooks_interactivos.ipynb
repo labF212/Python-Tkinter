{
  "nbformat": 4,
  "nbformat_minor": 0,
  "metadata": {
    "kernelspec": {
      "display_name": "Python 3",
      "language": "python",
      "name": "python3"
    },
    "language_info": {
      "codemirror_mode": {
        "name": "ipython",
        "version": 3
      },
      "file_extension": ".py",
      "mimetype": "text/x-python",
      "name": "python",
      "nbconvert_exporter": "python",
      "pygments_lexer": "ipython3",
      "version": "3.7.3"
    },
    "varInspector": {
      "cols": {
        "lenName": 16,
        "lenType": 16,
        "lenVar": 40
      },
      "kernels_config": {
        "python": {
          "delete_cmd_postfix": "",
          "delete_cmd_prefix": "del ",
          "library": "var_list.py",
          "varRefreshCmd": "print(var_dic_list())"
        },
        "r": {
          "delete_cmd_postfix": ") ",
          "delete_cmd_prefix": "rm(",
          "library": "var_list.r",
          "varRefreshCmd": "cat(var_dic_list()) "
        }
      },
      "types_to_exclude": [
        "module",
        "function",
        "builtin_function_or_method",
        "instance",
        "_Feature"
      ],
      "window_display": false
    },
    "colab": {
      "name": "Jupyter Notebooks interactivos.ipynb",
      "provenance": [],
      "collapsed_sections": [],
      "include_colab_link": true
    },
    "widgets": {
      "application/vnd.jupyter.widget-state+json": {
        "d4c913d592b0465895ec8dc7d98a2d5f": {
          "model_module": "@jupyter-widgets/controls",
          "model_name": "FloatTextModel",
          "model_module_version": "1.5.0",
          "state": {
            "_view_name": "FloatTextView",
            "style": "IPY_MODEL_e1f83178803e462a9e093998ad8ae084",
            "_dom_classes": [],
            "description": "",
            "_model_name": "FloatTextModel",
            "_view_module": "@jupyter-widgets/controls",
            "_model_module_version": "1.5.0",
            "value": 1,
            "_view_count": null,
            "disabled": false,
            "_view_module_version": "1.5.0",
            "continuous_update": false,
            "step": null,
            "description_tooltip": null,
            "_model_module": "@jupyter-widgets/controls",
            "layout": "IPY_MODEL_e2b64147635045878ebff91b95f6ab0e"
          }
        },
        "e1f83178803e462a9e093998ad8ae084": {
          "model_module": "@jupyter-widgets/controls",
          "model_name": "DescriptionStyleModel",
          "model_module_version": "1.5.0",
          "state": {
            "_view_name": "StyleView",
            "_model_name": "DescriptionStyleModel",
            "description_width": "",
            "_view_module": "@jupyter-widgets/base",
            "_model_module_version": "1.5.0",
            "_view_count": null,
            "_view_module_version": "1.2.0",
            "_model_module": "@jupyter-widgets/controls"
          }
        },
        "e2b64147635045878ebff91b95f6ab0e": {
          "model_module": "@jupyter-widgets/base",
          "model_name": "LayoutModel",
          "model_module_version": "1.2.0",
          "state": {
            "_view_name": "LayoutView",
            "grid_template_rows": null,
            "right": null,
            "justify_content": null,
            "_view_module": "@jupyter-widgets/base",
            "overflow": null,
            "_model_module_version": "1.2.0",
            "_view_count": null,
            "flex_flow": null,
            "width": null,
            "min_width": null,
            "border": null,
            "align_items": null,
            "bottom": null,
            "_model_module": "@jupyter-widgets/base",
            "top": null,
            "grid_column": null,
            "overflow_y": null,
            "overflow_x": null,
            "grid_auto_flow": null,
            "grid_area": null,
            "grid_template_columns": null,
            "flex": null,
            "_model_name": "LayoutModel",
            "justify_items": null,
            "grid_row": null,
            "max_height": null,
            "align_content": null,
            "visibility": null,
            "align_self": null,
            "height": null,
            "min_height": null,
            "padding": null,
            "grid_auto_rows": null,
            "grid_gap": null,
            "max_width": null,
            "order": null,
            "_view_module_version": "1.2.0",
            "grid_template_areas": null,
            "object_position": null,
            "object_fit": null,
            "grid_auto_columns": null,
            "margin": null,
            "display": null,
            "left": null
          }
        },
        "12598ed8b25e4c499b6edf8aa9b26623": {
          "model_module": "@jupyter-widgets/controls",
          "model_name": "FloatLogSliderModel",
          "model_module_version": "1.5.0",
          "state": {
            "_view_name": "FloatLogSliderView",
            "orientation": "horizontal",
            "_view_module": "@jupyter-widgets/controls",
            "_model_module_version": "1.5.0",
            "_view_count": null,
            "disabled": false,
            "readout_format": ".3g",
            "_model_module": "@jupyter-widgets/controls",
            "style": "IPY_MODEL_f32978f6a08247a4af5c661e5e8f8d72",
            "layout": "IPY_MODEL_197ffc9631f649edab77b0e6e96a181a",
            "min": 0,
            "continuous_update": true,
            "description_tooltip": null,
            "_dom_classes": [],
            "description": "",
            "_model_name": "FloatLogSliderModel",
            "max": 4,
            "readout": true,
            "step": 0.1,
            "base": 10,
            "value": 1,
            "_view_module_version": "1.5.0"
          }
        },
        "f32978f6a08247a4af5c661e5e8f8d72": {
          "model_module": "@jupyter-widgets/controls",
          "model_name": "SliderStyleModel",
          "model_module_version": "1.5.0",
          "state": {
            "_view_name": "StyleView",
            "handle_color": null,
            "_model_name": "SliderStyleModel",
            "description_width": "",
            "_view_module": "@jupyter-widgets/base",
            "_model_module_version": "1.5.0",
            "_view_count": null,
            "_view_module_version": "1.2.0",
            "_model_module": "@jupyter-widgets/controls"
          }
        },
        "197ffc9631f649edab77b0e6e96a181a": {
          "model_module": "@jupyter-widgets/base",
          "model_name": "LayoutModel",
          "model_module_version": "1.2.0",
          "state": {
            "_view_name": "LayoutView",
            "grid_template_rows": null,
            "right": null,
            "justify_content": null,
            "_view_module": "@jupyter-widgets/base",
            "overflow": null,
            "_model_module_version": "1.2.0",
            "_view_count": null,
            "flex_flow": null,
            "width": null,
            "min_width": null,
            "border": null,
            "align_items": null,
            "bottom": null,
            "_model_module": "@jupyter-widgets/base",
            "top": null,
            "grid_column": null,
            "overflow_y": null,
            "overflow_x": null,
            "grid_auto_flow": null,
            "grid_area": null,
            "grid_template_columns": null,
            "flex": null,
            "_model_name": "LayoutModel",
            "justify_items": null,
            "grid_row": null,
            "max_height": null,
            "align_content": null,
            "visibility": null,
            "align_self": null,
            "height": null,
            "min_height": null,
            "padding": null,
            "grid_auto_rows": null,
            "grid_gap": null,
            "max_width": null,
            "order": null,
            "_view_module_version": "1.2.0",
            "grid_template_areas": null,
            "object_position": null,
            "object_fit": null,
            "grid_auto_columns": null,
            "margin": null,
            "display": null,
            "left": null
          }
        },
        "7524115fa5e54e0991c2fc07be8a36d2": {
          "model_module": "@jupyter-widgets/controls",
          "model_name": "VBoxModel",
          "model_module_version": "1.5.0",
          "state": {
            "_view_name": "VBoxView",
            "_dom_classes": [
              "widget-interact"
            ],
            "_model_name": "VBoxModel",
            "_view_module": "@jupyter-widgets/controls",
            "_model_module_version": "1.5.0",
            "_view_count": null,
            "_view_module_version": "1.5.0",
            "box_style": "",
            "layout": "IPY_MODEL_ec31b67e5ab947c2b68cde5d37c8b6ec",
            "_model_module": "@jupyter-widgets/controls",
            "children": [
              "IPY_MODEL_acc07663a68648f3a75e8cc31cfb84df",
              "IPY_MODEL_d5b5ccfd2aaa43159e74b18a5df0a29d"
            ]
          }
        },
        "ec31b67e5ab947c2b68cde5d37c8b6ec": {
          "model_module": "@jupyter-widgets/base",
          "model_name": "LayoutModel",
          "model_module_version": "1.2.0",
          "state": {
            "_view_name": "LayoutView",
            "grid_template_rows": null,
            "right": null,
            "justify_content": null,
            "_view_module": "@jupyter-widgets/base",
            "overflow": null,
            "_model_module_version": "1.2.0",
            "_view_count": null,
            "flex_flow": null,
            "width": null,
            "min_width": null,
            "border": null,
            "align_items": null,
            "bottom": null,
            "_model_module": "@jupyter-widgets/base",
            "top": null,
            "grid_column": null,
            "overflow_y": null,
            "overflow_x": null,
            "grid_auto_flow": null,
            "grid_area": null,
            "grid_template_columns": null,
            "flex": null,
            "_model_name": "LayoutModel",
            "justify_items": null,
            "grid_row": null,
            "max_height": null,
            "align_content": null,
            "visibility": null,
            "align_self": null,
            "height": null,
            "min_height": null,
            "padding": null,
            "grid_auto_rows": null,
            "grid_gap": null,
            "max_width": null,
            "order": null,
            "_view_module_version": "1.2.0",
            "grid_template_areas": null,
            "object_position": null,
            "object_fit": null,
            "grid_auto_columns": null,
            "margin": null,
            "display": null,
            "left": null
          }
        },
        "acc07663a68648f3a75e8cc31cfb84df": {
          "model_module": "@jupyter-widgets/controls",
          "model_name": "ButtonModel",
          "model_module_version": "1.5.0",
          "state": {
            "_view_name": "ButtonView",
            "style": "IPY_MODEL_588593c088a948ee827916e112a271f9",
            "_dom_classes": [],
            "description": "Run Interact",
            "_model_name": "ButtonModel",
            "button_style": "",
            "_view_module": "@jupyter-widgets/controls",
            "_model_module_version": "1.5.0",
            "tooltip": "",
            "_view_count": null,
            "disabled": false,
            "_view_module_version": "1.5.0",
            "layout": "IPY_MODEL_a75eca7c7a294117b6dfe0cac211416f",
            "_model_module": "@jupyter-widgets/controls",
            "icon": ""
          }
        },
        "d5b5ccfd2aaa43159e74b18a5df0a29d": {
          "model_module": "@jupyter-widgets/output",
          "model_name": "OutputModel",
          "model_module_version": "1.0.0",
          "state": {
            "_view_name": "OutputView",
            "msg_id": "",
            "_dom_classes": [],
            "_model_name": "OutputModel",
            "outputs": [
              {
                "output_type": "stream",
                "name": "stdout",
                "text": [
                  "f\n"
                ]
              }
            ],
            "_view_module": "@jupyter-widgets/output",
            "_model_module_version": "1.0.0",
            "_view_count": null,
            "_view_module_version": "1.0.0",
            "layout": "IPY_MODEL_2efdf2667c8e41ad8c7e8cdfac8287fd",
            "_model_module": "@jupyter-widgets/output"
          }
        },
        "588593c088a948ee827916e112a271f9": {
          "model_module": "@jupyter-widgets/controls",
          "model_name": "ButtonStyleModel",
          "model_module_version": "1.5.0",
          "state": {
            "_view_name": "StyleView",
            "_model_name": "ButtonStyleModel",
            "_view_module": "@jupyter-widgets/base",
            "_model_module_version": "1.5.0",
            "_view_count": null,
            "button_color": null,
            "font_weight": "",
            "_view_module_version": "1.2.0",
            "_model_module": "@jupyter-widgets/controls"
          }
        },
        "a75eca7c7a294117b6dfe0cac211416f": {
          "model_module": "@jupyter-widgets/base",
          "model_name": "LayoutModel",
          "model_module_version": "1.2.0",
          "state": {
            "_view_name": "LayoutView",
            "grid_template_rows": null,
            "right": null,
            "justify_content": null,
            "_view_module": "@jupyter-widgets/base",
            "overflow": null,
            "_model_module_version": "1.2.0",
            "_view_count": null,
            "flex_flow": null,
            "width": null,
            "min_width": null,
            "border": null,
            "align_items": null,
            "bottom": null,
            "_model_module": "@jupyter-widgets/base",
            "top": null,
            "grid_column": null,
            "overflow_y": null,
            "overflow_x": null,
            "grid_auto_flow": null,
            "grid_area": null,
            "grid_template_columns": null,
            "flex": null,
            "_model_name": "LayoutModel",
            "justify_items": null,
            "grid_row": null,
            "max_height": null,
            "align_content": null,
            "visibility": null,
            "align_self": null,
            "height": null,
            "min_height": null,
            "padding": null,
            "grid_auto_rows": null,
            "grid_gap": null,
            "max_width": null,
            "order": null,
            "_view_module_version": "1.2.0",
            "grid_template_areas": null,
            "object_position": null,
            "object_fit": null,
            "grid_auto_columns": null,
            "margin": null,
            "display": null,
            "left": null
          }
        },
        "2efdf2667c8e41ad8c7e8cdfac8287fd": {
          "model_module": "@jupyter-widgets/base",
          "model_name": "LayoutModel",
          "model_module_version": "1.2.0",
          "state": {
            "_view_name": "LayoutView",
            "grid_template_rows": null,
            "right": null,
            "justify_content": null,
            "_view_module": "@jupyter-widgets/base",
            "overflow": null,
            "_model_module_version": "1.2.0",
            "_view_count": null,
            "flex_flow": null,
            "width": null,
            "min_width": null,
            "border": null,
            "align_items": null,
            "bottom": null,
            "_model_module": "@jupyter-widgets/base",
            "top": null,
            "grid_column": null,
            "overflow_y": null,
            "overflow_x": null,
            "grid_auto_flow": null,
            "grid_area": null,
            "grid_template_columns": null,
            "flex": null,
            "_model_name": "LayoutModel",
            "justify_items": null,
            "grid_row": null,
            "max_height": null,
            "align_content": null,
            "visibility": null,
            "align_self": null,
            "height": null,
            "min_height": null,
            "padding": null,
            "grid_auto_rows": null,
            "grid_gap": null,
            "max_width": null,
            "order": null,
            "_view_module_version": "1.2.0",
            "grid_template_areas": null,
            "object_position": null,
            "object_fit": null,
            "grid_auto_columns": null,
            "margin": null,
            "display": null,
            "left": null
          }
        }
      }
    }
  },
  "cells": [
    {
      "cell_type": "markdown",
      "metadata": {
        "id": "view-in-github",
        "colab_type": "text"
      },
      "source": [
        "<a href=\"https://colab.research.google.com/github/labF212/python/blob/main/Jupyter_Notebooks_interactivos.ipynb\" target=\"_parent\"><img src=\"https://colab.research.google.com/assets/colab-badge.svg\" alt=\"Open In Colab\"/></a>"
      ]
    },
    {
      "cell_type": "markdown",
      "metadata": {
        "id": "TnkvDazkeig4"
      },
      "source": [
        "# Python Add Interactivity to Jupyter Notebooks with ipywidgets\n",
        "GitHub Notebook"
      ]
    },
    {
      "cell_type": "code",
      "metadata": {
        "scrolled": false,
        "id": "Cn6pJSxleihC"
      },
      "source": [
        "from IPython.display import IFrame\n",
        "documentation = IFrame(src='https://ipywidgets.readthedocs.io/en/latest/examples/Widget%20List.html', \n",
        "                       width=1000, \n",
        "                       height=400)\n",
        "display(documentation)"
      ],
      "execution_count": null,
      "outputs": []
    },
    {
      "cell_type": "code",
      "metadata": {
        "id": "c1RQeYdzeihM"
      },
      "source": [
        "import ipywidgets\n",
        "# ; to hide output details"
      ],
      "execution_count": 2,
      "outputs": []
    },
    {
      "cell_type": "markdown",
      "metadata": {
        "id": "1Q0YNTyYeihQ"
      },
      "source": [
        "# IntSlider"
      ]
    },
    {
      "cell_type": "code",
      "metadata": {
        "colab": {
          "referenced_widgets": [
            "c693e1cc14454a0e837fec82f93fb4b4"
          ]
        },
        "id": "lBJs4GeveihT",
        "outputId": "f1bd525e-601a-46f7-c736-fc063127f203"
      },
      "source": [
        "# IntSlider\n",
        "# square number\n",
        "\n",
        "slider = ipywidgets.IntSlider(value=5,\n",
        "                              min=0,\n",
        "                              max=10,\n",
        "                              step=1,\n",
        "                              description='Square:',\n",
        "                              disabled=False,\n",
        "                              continuous_update=False,\n",
        "                              orientation='horizontal',\n",
        "                              readout=True,\n",
        "                              readout_format='d')\n",
        "\n",
        "def square1(number):\n",
        "    return number*number\n",
        "\n",
        "ipywidgets.interact(square1, number=slider);"
      ],
      "execution_count": null,
      "outputs": [
        {
          "data": {
            "application/vnd.jupyter.widget-view+json": {
              "model_id": "c693e1cc14454a0e837fec82f93fb4b4",
              "version_major": 2,
              "version_minor": 0
            },
            "text/plain": [
              "interactive(children=(IntSlider(value=5, continuous_update=False, description='Square:', max=10), Output()), _…"
            ]
          },
          "metadata": {},
          "output_type": "display_data"
        }
      ]
    },
    {
      "cell_type": "code",
      "metadata": {
        "colab": {
          "referenced_widgets": [
            "91c7f97a89ec4973b99989bab7c1c30c"
          ]
        },
        "id": "5UPuTt56eihZ",
        "outputId": "15f518d0-ffd2-4fb1-ef16-72ad453c0177"
      },
      "source": [
        "# IntSlider with function\n",
        "# square number\n",
        "\n",
        "def square2(number):\n",
        "    return number*number\n",
        "    \n",
        "ipywidgets.interact(square2, number=(0,10));"
      ],
      "execution_count": null,
      "outputs": [
        {
          "data": {
            "application/vnd.jupyter.widget-view+json": {
              "model_id": "91c7f97a89ec4973b99989bab7c1c30c",
              "version_major": 2,
              "version_minor": 0
            },
            "text/plain": [
              "interactive(children=(IntSlider(value=5, description='number', max=10), Output()), _dom_classes=('widget-inter…"
            ]
          },
          "metadata": {},
          "output_type": "display_data"
        }
      ]
    },
    {
      "cell_type": "code",
      "metadata": {
        "colab": {
          "referenced_widgets": [
            "6ee669f9d2124107b60fe6be7d757149"
          ]
        },
        "id": "1L-5Ef04eihd",
        "outputId": "9c6b9f6c-46b2-499b-e40b-79980b44ffd9"
      },
      "source": [
        "# IntSlider with decorator\n",
        "# square number\n",
        "\n",
        "@ipywidgets.interact(number=(1,10))\n",
        "def square3(number):\n",
        "    return number*number"
      ],
      "execution_count": null,
      "outputs": [
        {
          "data": {
            "application/vnd.jupyter.widget-view+json": {
              "model_id": "6ee669f9d2124107b60fe6be7d757149",
              "version_major": 2,
              "version_minor": 0
            },
            "text/plain": [
              "interactive(children=(IntSlider(value=5, description='number', max=10, min=1), Output()), _dom_classes=('widge…"
            ]
          },
          "metadata": {},
          "output_type": "display_data"
        }
      ]
    },
    {
      "cell_type": "markdown",
      "metadata": {
        "id": "qviJ4Ka7eihh"
      },
      "source": [
        "# BoundedIntText"
      ]
    },
    {
      "cell_type": "code",
      "metadata": {
        "colab": {
          "referenced_widgets": [
            "b8e584f016014909a7628d1643baa1bf"
          ]
        },
        "id": "jx4gI1_feihk",
        "outputId": "fbbf2fd0-3741-47f3-d225-6bb3cb8b48eb"
      },
      "source": [
        "# make chart interactive\n",
        "# change number of bins for histogram\n",
        "\n",
        "import matplotlib.pyplot as plt\n",
        "%matplotlib inline\n",
        "from vega_datasets import data\n",
        "\n",
        "# data\n",
        "cars = data.cars()\n",
        "hist_data = cars['Miles_per_Gallon'].dropna()\n",
        "\n",
        "arrow = ipywidgets.BoundedIntText(value=50,\n",
        "                                  min=25,\n",
        "                                  max=100,\n",
        "                                  step=1,\n",
        "                                  description='Bins:',\n",
        "                                  disabled=False)\n",
        "\n",
        "def create_histogram(bins):\n",
        "    plt.hist(hist_data, bins=bins)\n",
        "    \n",
        "ipywidgets.interact(create_histogram, bins=arrow);"
      ],
      "execution_count": null,
      "outputs": [
        {
          "data": {
            "application/vnd.jupyter.widget-view+json": {
              "model_id": "b8e584f016014909a7628d1643baa1bf",
              "version_major": 2,
              "version_minor": 0
            },
            "text/plain": [
              "interactive(children=(BoundedIntText(value=50, description='Bins:', min=25), Output()), _dom_classes=('widget-…"
            ]
          },
          "metadata": {},
          "output_type": "display_data"
        }
      ]
    },
    {
      "cell_type": "markdown",
      "metadata": {
        "id": "K6-6OIMzeihr"
      },
      "source": [
        "# Checkbox"
      ]
    },
    {
      "cell_type": "code",
      "metadata": {
        "colab": {
          "referenced_widgets": [
            "076fb6e4d9d246c2bf96b76d1ae5cc93",
            "385a646e15c64db6ab17b2b2f66ee587"
          ]
        },
        "id": "Qy0n7UZQeihu",
        "outputId": "a7a83db0-684b-485a-b301-ac91c805a5ce"
      },
      "source": [
        "# add map layers to cartopy map\n",
        "\n",
        "from ipywidgets import Layout\n",
        "import matplotlib.pyplot as plt\n",
        "import cartopy.crs as ccrs\n",
        "import cartopy.feature as cfeature\n",
        "\n",
        "land = ipywidgets.Checkbox(description='land', style={'description_width': 'initial'})\n",
        "ocean = ipywidgets.Checkbox(description='ocean', style={'description_width': 'initial'})\n",
        "coastline = ipywidgets.Checkbox(description='coastline', style={'description_width': 'initial'})\n",
        "borders = ipywidgets.Checkbox(description='borders', style={'description_width': 'initial'})\n",
        "lakes = ipywidgets.Checkbox(description='lakes', style={'description_width': 'initial'})\n",
        "rivers = ipywidgets.Checkbox(description='rivers', style={'description_width': 'initial'})\n",
        "plot_locations = ipywidgets.Checkbox(description='plot_locations', style={'description_width': 'initial'})\n",
        "\n",
        "box_layout = ipywidgets.Layout(display='inline-flex',                               \n",
        "                               flex_flow='row',\n",
        "                               align_items='stretch',\n",
        "                               border='solid',\n",
        "                               width='100%')\n",
        "\n",
        "ui = ipywidgets.HBox([land, ocean, coastline, borders, lakes, rivers, plot_locations], layout=box_layout)\n",
        "\n",
        "def create_map(land,ocean,coastline,borders,lakes,rivers,plot_locations):\n",
        "    data_crs = ccrs.PlateCarree()\n",
        "    fig = plt.figure(figsize=(12, 8))\n",
        "    ax = fig.add_subplot(1, 1, 1, projection=data_crs)\n",
        "    # make the map global rather than have it zoom in to the extents of any plotted data\n",
        "    ax.set_global()\n",
        "    if land == True: ax.add_feature(cfeature.LAND)\n",
        "    if ocean == True: ax.add_feature(cfeature.OCEAN)\n",
        "    if coastline == True: ax.add_feature(cfeature.COASTLINE)\n",
        "    if borders == True: ax.add_feature(cfeature.BORDERS, linestyle=':')\n",
        "    if lakes == True: ax.add_feature(cfeature.LAKES, alpha=0.5)\n",
        "    if rivers == True: ax.add_feature(cfeature.RIVERS)\n",
        "    if plot_locations == True:\n",
        "        ny_lon, ny_lat = -75, 43\n",
        "        delhi_lon, delhi_lat = 77.23, 28.61\n",
        "        ax.plot(ny_lon, ny_lat, 'o', transform=data_crs)\n",
        "        ax.plot(delhi_lon, delhi_lat, 'o', transform=data_crs)\n",
        "        ax.text(ny_lon - 2, ny_lat - 4, 'New York', horizontalalignment='right', transform=data_crs)\n",
        "        ax.text(delhi_lon + 1, delhi_lat - 6, 'Delhi', horizontalalignment='left', transform=data_crs)\n",
        "        \n",
        "out = ipywidgets.interactive_output(create_map, {'land': land,\n",
        "                                                 'ocean': ocean,\n",
        "                                                 'coastline': coastline,\n",
        "                                                 'borders': borders,\n",
        "                                                 'lakes': lakes,\n",
        "                                                 'rivers': rivers,\n",
        "                                                 'plot_locations': plot_locations})\n",
        "\n",
        "display(ui, out)"
      ],
      "execution_count": null,
      "outputs": [
        {
          "data": {
            "application/vnd.jupyter.widget-view+json": {
              "model_id": "076fb6e4d9d246c2bf96b76d1ae5cc93",
              "version_major": 2,
              "version_minor": 0
            },
            "text/plain": [
              "HBox(children=(Checkbox(value=False, description='land', style=DescriptionStyle(description_width='initial')),…"
            ]
          },
          "metadata": {},
          "output_type": "display_data"
        },
        {
          "data": {
            "application/vnd.jupyter.widget-view+json": {
              "model_id": "385a646e15c64db6ab17b2b2f66ee587",
              "version_major": 2,
              "version_minor": 0
            },
            "text/plain": [
              "Output()"
            ]
          },
          "metadata": {},
          "output_type": "display_data"
        }
      ]
    },
    {
      "cell_type": "markdown",
      "metadata": {
        "id": "1ujGrlJVeihz"
      },
      "source": [
        "# Dropdown"
      ]
    },
    {
      "cell_type": "code",
      "metadata": {
        "colab": {
          "referenced_widgets": [
            "606e1c9dfc9145609423ca73fd257b9f"
          ]
        },
        "id": "zs1jSk-Reih1",
        "outputId": "49017603-bae2-4e25-dbd1-ba19e0b1d773"
      },
      "source": [
        "# generate password\n",
        "\n",
        "drop_down = ipywidgets.Dropdown(options=list(range(8,21)),\n",
        "                                value=8,\n",
        "                                description='Number:',\n",
        "                                disabled=False)\n",
        "\n",
        "def generate_password(length): \n",
        "    import string\n",
        "    import random\n",
        "    password_choices = string.ascii_letters+'123456789'+'!@#$%^&*'\n",
        "    password = [random.choice(password_choices) for _ in range(length)]\n",
        "    return ''.join(password)\n",
        "\n",
        "ipywidgets.interact(generate_password, length=drop_down);"
      ],
      "execution_count": null,
      "outputs": [
        {
          "data": {
            "application/vnd.jupyter.widget-view+json": {
              "model_id": "606e1c9dfc9145609423ca73fd257b9f",
              "version_major": 2,
              "version_minor": 0
            },
            "text/plain": [
              "interactive(children=(Dropdown(description='Number:', options=(8, 9, 10, 11, 12, 13, 14, 15, 16, 17, 18, 19, 2…"
            ]
          },
          "metadata": {},
          "output_type": "display_data"
        }
      ]
    },
    {
      "cell_type": "markdown",
      "metadata": {
        "id": "saOXtrFxeih3"
      },
      "source": [
        "# Text"
      ]
    },
    {
      "cell_type": "code",
      "metadata": {
        "colab": {
          "referenced_widgets": [
            "45d9ee03b1d443a281c706f865bc4688",
            "1b32b609b7b54443b773821ad286b439"
          ]
        },
        "id": "1DJqQWlseih4",
        "outputId": "b771930e-7d63-4556-96e8-2ac2f3ede86a"
      },
      "source": [
        "# take user input\n",
        "\n",
        "text = ipywidgets.Text(value='',\n",
        "                       placeholder='type here',\n",
        "                       description='String:',\n",
        "                       disabled=False)\n",
        "\n",
        "instructions = ipywidgets.widgets.HTML('Enter your name:')\n",
        "display(instructions)\n",
        "\n",
        "display(text)\n",
        "\n",
        "def submit(greeting):\n",
        "    print('Hello {}'.format(text.value))\n",
        "\n",
        "text.on_submit(submit)"
      ],
      "execution_count": null,
      "outputs": [
        {
          "data": {
            "application/vnd.jupyter.widget-view+json": {
              "model_id": "45d9ee03b1d443a281c706f865bc4688",
              "version_major": 2,
              "version_minor": 0
            },
            "text/plain": [
              "HTML(value='Enter your name:')"
            ]
          },
          "metadata": {},
          "output_type": "display_data"
        },
        {
          "data": {
            "application/vnd.jupyter.widget-view+json": {
              "model_id": "1b32b609b7b54443b773821ad286b439",
              "version_major": 2,
              "version_minor": 0
            },
            "text/plain": [
              "Text(value='', description='String:', placeholder='type here')"
            ]
          },
          "metadata": {},
          "output_type": "display_data"
        },
        {
          "name": "stdout",
          "output_type": "stream",
          "text": [
            "Hello Bob\n"
          ]
        }
      ]
    },
    {
      "cell_type": "markdown",
      "metadata": {
        "id": "jgUXV8Vxeih6"
      },
      "source": [
        "# Link Widgets"
      ]
    },
    {
      "cell_type": "code",
      "metadata": {
        "colab": {
          "base_uri": "https://localhost:8080/",
          "height": 79,
          "referenced_widgets": [
            "d4c913d592b0465895ec8dc7d98a2d5f",
            "e1f83178803e462a9e093998ad8ae084",
            "e2b64147635045878ebff91b95f6ab0e",
            "12598ed8b25e4c499b6edf8aa9b26623",
            "f32978f6a08247a4af5c661e5e8f8d72",
            "197ffc9631f649edab77b0e6e96a181a"
          ]
        },
        "id": "_jEeZJBGeih9",
        "outputId": "0b759cde-8525-47e5-c945-4f8a13b85197"
      },
      "source": [
        "# link widgets together\n",
        "\n",
        "a = ipywidgets.widgets.FloatText()\n",
        "b = ipywidgets.widgets.FloatLogSlider()\n",
        "display(a,b)\n",
        "\n",
        "link_widgets = ipywidgets.link((a, 'value'), (b, 'value'))"
      ],
      "execution_count": 6,
      "outputs": [
        {
          "output_type": "display_data",
          "data": {
            "application/vnd.jupyter.widget-view+json": {
              "model_id": "d4c913d592b0465895ec8dc7d98a2d5f",
              "version_minor": 0,
              "version_major": 2
            },
            "text/plain": [
              "FloatText(value=0.0)"
            ]
          },
          "metadata": {}
        },
        {
          "output_type": "display_data",
          "data": {
            "application/vnd.jupyter.widget-view+json": {
              "model_id": "12598ed8b25e4c499b6edf8aa9b26623",
              "version_minor": 0,
              "version_major": 2
            },
            "text/plain": [
              "FloatLogSlider(value=1.0)"
            ]
          },
          "metadata": {}
        }
      ]
    },
    {
      "cell_type": "code",
      "metadata": {
        "id": "0ZsGYf3leiiA"
      },
      "source": [
        "# ipywidgets.link?"
      ],
      "execution_count": 5,
      "outputs": []
    },
    {
      "cell_type": "markdown",
      "metadata": {
        "id": "QGdelMGUeiiC"
      },
      "source": [
        "# Interact Manual"
      ]
    },
    {
      "cell_type": "code",
      "metadata": {
        "colab": {
          "base_uri": "https://localhost:8080/",
          "height": 66,
          "referenced_widgets": [
            "7524115fa5e54e0991c2fc07be8a36d2",
            "ec31b67e5ab947c2b68cde5d37c8b6ec",
            "acc07663a68648f3a75e8cc31cfb84df",
            "d5b5ccfd2aaa43159e74b18a5df0a29d",
            "588593c088a948ee827916e112a271f9",
            "a75eca7c7a294117b6dfe0cac211416f",
            "2efdf2667c8e41ad8c7e8cdfac8287fd"
          ]
        },
        "id": "5DZmxAvneiiE",
        "outputId": "deab0fcd-bcfd-4fc2-dd0b-b3424a9f9ad7"
      },
      "source": [
        "# choose from list at random\n",
        "\n",
        "import random\n",
        "\n",
        "@ipywidgets.interact_manual()\n",
        "def random_choice():\n",
        "    l = list('abcdefghijklmnopqrstuvwxyz')\n",
        "    print(random.choice(l))"
      ],
      "execution_count": 4,
      "outputs": [
        {
          "output_type": "display_data",
          "data": {
            "application/vnd.jupyter.widget-view+json": {
              "model_id": "7524115fa5e54e0991c2fc07be8a36d2",
              "version_minor": 0,
              "version_major": 2
            },
            "text/plain": [
              "interactive(children=(Button(description='Run Interact', style=ButtonStyle()), Output()), _dom_classes=('widge…"
            ]
          },
          "metadata": {}
        }
      ]
    },
    {
      "cell_type": "code",
      "metadata": {
        "id": "OLoHHqHZeiiG"
      },
      "source": [
        "# randomly change color of image\n",
        "\n",
        "import random\n",
        "from PIL import Image\n",
        "\n",
        "@ipywidgets.interact_manual()\n",
        "def random_choice():\n",
        "    flower = Image.open('path/img.jpg')\n",
        "    r, g, b = flower.split()\n",
        "    x = random.choice([r, g, b])\n",
        "    y = random.choice([r, g, b])\n",
        "    z = random.choice([r, g, b])\n",
        "    flower_color = Image.merge('RGB', (x, y, z))\n",
        "    flower_color.show()"
      ],
      "execution_count": null,
      "outputs": []
    }
  ]
}